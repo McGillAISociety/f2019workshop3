{
  "nbformat": 4,
  "nbformat_minor": 0,
  "metadata": {
    "colab": {
      "name": "Workshop 3 - Scraping and Cleaning.ipynb",
      "provenance": [],
      "collapsed_sections": []
    },
    "kernelspec": {
      "name": "python3",
      "display_name": "Python 3"
    }
  },
  "cells": [
    {
      "cell_type": "markdown",
      "metadata": {
        "id": "E2Jukn4qa4EO",
        "colab_type": "text"
      },
      "source": [
        "# MAIS Fall 2019 Workshop 3 - Scraping and Cleaning\n",
        "\n",
        "In this notebook, we will be walking through the basics of webscraping using the `requests`, `BeautifulSoup4`, and `selenium` python packages. With these packages at your disposal, you should be able to scrape both statically and dynamically loaded sites by the end of this workshop\n",
        "\n",
        "The content in this notebook is broken up into the following sections:\n",
        "\n",
        "1.   Introduction to `requests`, `BeautifulSoup4`, and DOM traversal\n",
        "2.   Scrape a simple statically loaded site with `requests` and `bs4`\n",
        "3.   Scrape a dynamically loaded site with `selenium` and `bs4`"
      ]
    },
    {
      "cell_type": "markdown",
      "metadata": {
        "id": "X7zETQDMiUhr",
        "colab_type": "text"
      },
      "source": [
        "## 1. Introduction to requests, BeautifulSoup4, and DOM traversal"
      ]
    },
    {
      "cell_type": "markdown",
      "metadata": {
        "id": "gaJCKb0oj_8W",
        "colab_type": "text"
      },
      "source": [
        "We'll start by importing the necessary packages"
      ]
    },
    {
      "cell_type": "code",
      "metadata": {
        "id": "tSeL_2LfahYk",
        "colab_type": "code",
        "colab": {}
      },
      "source": [
        "import requests\n",
        "from bs4 import BeautifulSoup"
      ],
      "execution_count": 0,
      "outputs": []
    },
    {
      "cell_type": "markdown",
      "metadata": {
        "id": "HGtboHVdkGWm",
        "colab_type": "text"
      },
      "source": [
        "Next, we'll play around a bit with these packages to get familiar with them. Specifically, we'll try scraping the 7-day weather forecast for Boston, MA.\n",
        "\n",
        "URL: https://forecast.weather.gov/MapClick.php?lat=42.3587&lon=-71.0567\n",
        "\n",
        "Start by checking out the website (use Inspect Element), and get a feel for the site's HTML structure."
      ]
    },
    {
      "cell_type": "code",
      "metadata": {
        "id": "lfDufTKilB6E",
        "colab_type": "code",
        "colab": {}
      },
      "source": [
        "URL = 'https://forecast.weather.gov/MapClick.php?lat=42.3587&lon=-71.0567'"
      ],
      "execution_count": 0,
      "outputs": []
    },
    {
      "cell_type": "markdown",
      "metadata": {
        "id": "H8ft4gGgk_PB",
        "colab_type": "text"
      },
      "source": [
        "Once you've checked out the site and know what you're looking for, it's time to get scraping! We'll start by using the `requests` package which, as we've already mentioned, lets us retrieve a site's HTML via a GET request."
      ]
    },
    {
      "cell_type": "code",
      "metadata": {
        "id": "3y515x9ZlYmn",
        "colab_type": "code",
        "outputId": "1bd8352e-98da-4f9c-b1c8-83810c58d17a",
        "colab": {
          "base_uri": "https://localhost:8080/",
          "height": 34
        }
      },
      "source": [
        "page = requests.get(URL)\n",
        "print(page)"
      ],
      "execution_count": 0,
      "outputs": [
        {
          "output_type": "stream",
          "text": [
            "<Response [200]>\n"
          ],
          "name": "stdout"
        }
      ]
    },
    {
      "cell_type": "markdown",
      "metadata": {
        "id": "dpoVeuYllmu4",
        "colab_type": "text"
      },
      "source": [
        "A [200] response from a GET request is good news! The `Response` object's `content` field contains a byte string of the HTML of the website"
      ]
    },
    {
      "cell_type": "code",
      "metadata": {
        "id": "6JkDm4RAlsWo",
        "colab_type": "code",
        "outputId": "9468037c-7efb-4ba4-dc75-3b3c5c1ff2bc",
        "colab": {
          "base_uri": "https://localhost:8080/",
          "height": 54
        }
      },
      "source": [
        "# print out the page's \"content\" field\n",
        "#--- YOUR CODE HERE ---\n",
        "\n",
        "#----------------------"
      ],
      "execution_count": 0,
      "outputs": [
        {
          "output_type": "stream",
          "text": [
            "b'<!DOCTYPE html>\\n<html class=\"no-js\">\\n    <head>\\n        <!-- Meta -->\\n        <meta name=\"viewport\" content=\"width=device-width\">\\n        <link rel=\"schema.DC\" href=\"http://purl.org/dc/elements/1.1/\" /><title>National Weather Service</title><meta name=\"DC.title\" content=\"National Weather Service\" /><meta name=\"DC.description\" content=\"NOAA National Weather Service National Weather Service\" /><meta name=\"DC.creator\" content=\"US Department of Commerce, NOAA, National Weather Service\" /><meta name=\"DC.date.created\" scheme=\"ISO8601\" content=\"\" /><meta name=\"DC.language\" scheme=\"DCTERMS.RFC1766\" content=\"EN-US\" /><meta name=\"DC.keywords\" content=\"weather, National Weather Service\" /><meta name=\"DC.publisher\" content=\"NOAA\\'s National Weather Service\" /><meta name=\"DC.contributor\" content=\"National Weather Service\" /><meta name=\"DC.rights\" content=\"http://www.weather.gov/disclaimer.php\" /><meta name=\"rating\" content=\"General\" /><meta name=\"robots\" content=\"index,follow\" />\\n\\n        <!-- Icons -->\\n        <link rel=\"shortcut icon\" href=\"./images/favicon.ico\" type=\"image/x-icon\" />\\n\\n        <!-- CSS -->\\n        <link rel=\"stylesheet\" href=\"css/bootstrap-3.2.0.min.css\">\\n        <link rel=\"stylesheet\" href=\"css/bootstrap-theme-3.2.0.min.css\">\\n        <link rel=\"stylesheet\" href=\"css/font-awesome-4.3.0.min.css\">\\n        <link rel=\"stylesheet\" href=\"css/ol-4.6.4.css\" type=\"text/css\">\\n        <link rel=\"stylesheet\" type=\"text/css\" href=\"css/mapclick.css\" />\\n        <!--[if lte IE 7]><link rel=\"stylesheet\" type=\"text/css\" href=\"css/bootstrap-ie7.css\" /><![endif]-->\\n        <!--[if lte IE 9]><link rel=\"stylesheet\" type=\"text/css\" href=\"css/mapclick-ie.css\" /><![endif]-->\\n        <link rel=\"stylesheet\" type=\"text/css\" href=\"css/print.css\" />\\n        <link rel=\"stylesheet\" type=\"text/css\" href=\"css/search.css\" />\\n\\n        <!-- Javascript -->\\n        <script type=\"text/javascript\" src=\"js/lib/modernizr-2.8.3.js\"></script>\\n        <script type=\"text/javascript\" src=\"js/lib/json3-3.3.2.min.js\"></script>\\n        <script type=\"text/javascript\" src=\"js/lib/jquery-1.11.3.min.js\"></script>\\n        <script type=\"text/javascript\" src=\"js/lib/jquery.hoverIntent-1.8.1.min.js\"></script>\\n        <script type=\"text/javascript\" src=\"js/lib/bootstrap-3.2.0.min.js\"></script>\\n        <script type=\"text/javascript\" src=\"js/lib/ol-4.6.4.js\"></script>\\n        <!--[if lte IE 8]><script type=\"text/javascript\" src=\"js/respond.min.js\"></script><![endif]-->\\n        <script type=\"text/javascript\" src=\"js/jquery.autocomplete.min.js\"></script>\\n        <script type=\"text/javascript\" src=\"js/cfisurvey/cfi.js?v2\"></script>\\n        <script type=\"text/javascript\" src=\"js/forecast.esri.js\"></script>\\n        <script type=\"text/javascript\" src=\"js/forecast.search.js\"></script>\\n        <script type=\"text/javascript\" src=\"js/forecast.openlayers.js\"></script>\\n        <script type=\"text/javascript\" src=\"js/browserSniffer.js\"></script>\\n        <script type=\"text/javascript\" src=\"js/federated-analytics.js\"></script>\\n        <script type=\"javascript\">\\n// ForeSee Staging Embed Script v2.01\\n// DO NOT MODIFY BELOW THIS LINE *****************************************\\n;(function (g) {\\n  var d = document, am = d.createElement(\\'script\\'), h = d.head || d.getElementsByTagName(\"head\")[0], fsr = \\'fsReady\\',\\n  aex = { \\n    \"src\": \"//gateway.foresee.com/sites/weather-gov/production/gateway.min.js\",\\n    \"type\": \"text/javascript\", \\n    \"async\": \"true\", \\n    \"data-vendor\": \"fs\", \\n    \"data-role\": \"gateway\" \\n  };\\n  for (var attr in aex) { am.setAttribute(attr, aex[attr]); } h.appendChild(am); g[fsr] || (g[fsr] = function () { var aT = \\'__\\' + fsr + \\'_stk__\\'; g[aT] = g[aT] || []; g[aT].push(arguments); });\\n})(window);\\n// DO NOT MODIFY ABOVE THIS LINE *****************************************\\n</script>\\n        <script type=\"text/javascript\">\\n            (function (i, s, o, g, r, a, m) {\\n                i[\\'GoogleAnalyticsObject\\'] = r;\\n                i[r] = i[r] || function () {\\n                    (i[r].q = i[r].q || []).push(arguments)\\n                }, i[r].l = 1 * new Date();\\n                a = s.createElement(o),\\n                        m = s.getElementsByTagName(o)[0];\\n                a.async = 1;\\n                a.src = g;\\n                m.parentNode.insertBefore(a, m)\\n            })(window, document, \\'script\\', \\'//www.google-analytics.com/analytics.js\\', \\'ga\\');\\n\\n            ga(\\'create\\', \\'UA-40768555-1\\', \\'weather.gov\\', {\\'sampleRate\\': 6});\\n            ga(\\'set\\', \\'anonymizeIp\\', true);\\n            ga(\\'require\\', \\'linkid\\');\\n            ga(\\'send\\', \\'pageview\\');\\n        </script>\\n\\n    </head>\\n    <body>\\n        <main class=\"container\">\\n            \\t\\t<header class=\"row clearfix\" id=\"page-header\">\\r\\n\\t\\t\\t<a href=\"http://www.noaa.gov\" id=\"header-noaa\" class=\"pull-left\"><img src=\"/css/images/header_noaa.png\" alt=\"National Oceanic and Atmospheric Administration\"/></a>\\r\\n\\t\\t\\t<a href=\"http://www.weather.gov\" id=\"header-nws\" class=\"pull-left\"><img src=\"/css/images/header_nws.png\" alt=\"National Weather Service\"/></a>\\r\\n\\t\\t\\t<a href=\"http://www.commerce.gov\" id=\"header-doc\" class=\"pull-right\"><img src=\"/css/images/header_doc.png\" alt=\"United States Department of Commerce\"/></a>\\r\\n\\t\\t</header>\\r\\n\\t\\t\\n                    <nav class=\"navbar navbar-default row\" role=\"navigation\">\\r\\n            <div class=\"container-fluid\">\\r\\n                <div class=\"navbar-header\">\\r\\n                    <button type=\"button\" class=\"navbar-toggle collapsed\" data-toggle=\"collapse\" data-target=\"#top-nav\">\\r\\n                        <span class=\"sr-only\">Toggle navigation</span>\\r\\n                        <span class=\"icon-bar\"></span>\\r\\n                        <span class=\"icon-bar\"></span>\\r\\n                        <span class=\"icon-bar\"></span>\\r\\n                    </button>\\r\\n                </div>\\r\\n                <div class=\"collapse navbar-collapse\" id=\"top-nav\">\\r\\n                    <ul class=\"nav navbar-nav\">\\r\\n                        <li><a href=\"http://www.weather.gov\">HOME</a></li>\\r\\n                        <li class=\"dropdown\"><a href=\"http://www.weather.gov/forecastmaps\" class=\"dropdown-toggle\" data-toggle=\"dropdown\">FORECAST&nbsp;<span class=\"caret\"></span></a><ul class=\"dropdown-menu\" role=\"menu\"><li><a href=\"http://www.weather.gov\">Local</a></li><li><a href=\"http://digital.weather.gov\">Graphical</a></li><li><a href=\"http://www.aviationweather.gov/\">Aviation</a></li><li><a href=\"http://www.nws.noaa.gov/om/marine/home.htm\">Marine</a></li><li><a href=\"http://water.weather.gov/ahps/\">Rivers and Lakes</a></li><li><a href=\"http://www.nhc.noaa.gov/\">Hurricanes</a></li><li><a href=\"http://www.spc.noaa.gov/\">Severe Weather</a></li><li><a href=\"http://www.weather.gov/fire/\">Fire Weather</a></li><li><a href=\"http://aa.usno.navy.mil/data/docs/RS_OneDay.php\">Sun/Moon</a></li><li><a href=\"http://www.cpc.ncep.noaa.gov/\">Long Range Forecasts</a></li><li><a href=\"http://www.cpc.ncep.noaa.gov\">Climate Prediction</a></li><li><a href=\"https://www.swpc.noaa.gov/\">Space Weather</a></li></ul>                            </li>\\r\\n                            <li class=\"dropdown\"><a href=\"https://w2.weather.gov/climate\" class=\"dropdown-toggle\" data-toggle=\"dropdown\">PAST WEATHER&nbsp;<span class=\"caret\"></span></a><ul class=\"dropdown-menu\" role=\"menu\"><li><a href=\"https://w2.weather.gov/climate/\">Past Weather</a></li><li><a href=\"https://w2.weather.gov/climate/\">Heating/Cooling Days</a></li><li><a href=\"https://w2.weather.gov/climate/\">Monthly Temperatures</a></li><li><a href=\"https://w2.weather.gov/climate/\">Records</a></li><li><a href=\"http://aa.usno.navy.mil/\">Astronomical Data</a></li></ul>                            </li>\\r\\n                            <li class=\"dropdown\"><a href=\"http://www.weather.gov/safety\" class=\"dropdown-toggle\" data-toggle=\"dropdown\">SAFETY&nbsp;<span class=\"caret\"></span></a><ul class=\"dropdown-menu\" role=\"menu\"><li><a href=\"https://www.weather.gov/safety/flood\">Floods</a></li><li><a href=\"https://www.weather.gov/safety/tsunami\">Tsunamis</a></li><li><a href=\"https://www.weather.gov/safety/beachhazards\">Beach Hazards</a></li><li><a href=\"https://www.weather.gov/safety/wildfire\">Wildfire</a></li><li><a href=\"https://www.weather.gov/safety/cold\">Cold</a></li><li><a href=\"https://www.weather.gov/safety/tornado\">Tornadoes</a></li><li><a href=\"https://www.weather.gov/safety/fog\">Fog</a></li><li><a href=\"https://www.weather.gov/safety/airquality\">Air Quality</a></li><li><a href=\"https://www.weather.gov/safety/heat\">Heat</a></li><li><a href=\"https://www.weather.gov/safety/hurricane\">Hurricanes</a></li><li><a href=\"https://www.weather.gov/safety/lightning\">Lightning</a></li><li><a href=\"https://www.weather.gov/safety/ripcurrent\">Rip Currents</a></li><li><a href=\"https://www.weather.gov/safety/safeboating\">Safe Boating</a></li><li><a href=\"https://www.weather.gov/safety/thunderstorm\">Thunderstorms</a></li><li><a href=\"https://www.weather.gov/safety/space\">Space Weather</a></li><li><a href=\"https://www.weather.gov/safety/heat-uv\">Sun (Ultraviolet Radiation)</a></li><li><a href=\"http://www.weather.gov/safetycampaign\">Safety Campaigns</a></li><li><a href=\"https://www.weather.gov/safety/wind\">Wind</a></li><li><a href=\"https://www.weather.gov/safety/drought\">Drought</a></li><li><a href=\"https://www.weather.gov/safety/winter\">Winter Weather</a></li></ul>                            </li>\\r\\n                            <li class=\"dropdown\"><a href=\"http://www.weather.gov/informationcenter\" class=\"dropdown-toggle\" data-toggle=\"dropdown\">INFORMATION&nbsp;<span class=\"caret\"></span></a><ul class=\"dropdown-menu\" role=\"menu\"><li><a href=\"http://www.weather.gov/Owlie\\'s\">Owlie\\'s Kids Page</a></li><li><a href=\"http://www.weather.gov/wrn/wea\">Wireless Emergency Alerts</a></li><li><a href=\"https://www.weather.gov/owlie/publication_brochures\">Brochures</a></li><li><a href=\"http://www.weather.gov/wrn/\">Weather-Ready Nation</a></li><li><a href=\"https://www.weather.gov/coop/\">Cooperative Observers</a></li><li><a href=\"http://www.weather.gov/briefing/\">Daily Briefing</a></li><li><a href=\"http://www.nws.noaa.gov/om/hazstats.shtml\">Damage/Fatality/Injury Statistics</a></li><li><a href=\"http://mag.ncep.noaa.gov/\">Forecast Models</a></li><li><a href=\"https://www.weather.gov/gis\">GIS Data Portal</a></li><li><a href=\"http://www.nws.noaa.gov/nwr/\">NOAA Weather Radio</a></li><li><a href=\"http://weather.gov/publications\">Publications</a></li><li><a href=\"http://www.weather.gov/SKYWARN\">SKYWARN Storm Spotters</a></li><li><a href=\"http://www.weather.gov/StormReady\">StormReady</a></li><li><a href=\"https://www.weather.gov/TsunamiReady/\">TsunamiReady</a></li><li><a href=\"https://www.weather.gov/notification/\">Service Change Notices</a></li></ul>                            </li>\\r\\n                            <li class=\"dropdown\"><a href=\"http://www.weather.gov/owlie\" class=\"dropdown-toggle\" data-toggle=\"dropdown\">EDUCATION&nbsp;<span class=\"caret\"></span></a><ul class=\"dropdown-menu\" role=\"menu\"><li><a href=\"https://www.weather.gov/wrn/force\">Be A Force of Nature</a></li><li><a href=\"http://www.weather.gov/owlie\">NWS Education Home</a></li></ul>                            </li>\\r\\n                            <li class=\"dropdown\"><a href=\"http://www.weather.gov/contact-media/\" class=\"dropdown-toggle\" data-toggle=\"dropdown\">NEWS&nbsp;<span class=\"caret\"></span></a><ul class=\"dropdown-menu\" role=\"menu\"><li><a href=\"http://www.weather.gov/news\">NWS News</a></li><li><a href=\"https://www.weather.gov/wrn/calendar\">Events</a></li><li><a href=\"http://www.weather.gov/socialmedia\">Social Media</a></li><li><a href=\"https://www.weather.gov/owlie/publication_brochures\">Pubs/Brochures/Booklets </a></li><li><a href=\"http://www.noaa.gov/NOAA-Communications\">NWS Media Contacts</a></li></ul>                            </li>\\r\\n                            <li class=\"dropdown\"><a href=\"http://www.weather.gov/search\" class=\"dropdown-toggle\" data-toggle=\"dropdown\">SEARCH&nbsp;<span class=\"caret\"></span></a><ul class=\"dropdown-menu\" role=\"menu\">                                <li><!-- Begin search code -->\\r\\n                                    <div id=\"site-search\">\\r\\n                                        <form method=\"get\" action=\"//search.usa.gov/search\" style=\"margin-bottom: 0; margin-top: 0;\">\\r\\n                                            <input type=\"hidden\" name=\"v:project\" value=\"firstgov\" /> \\r\\n                                            <label for=\"query\">Search For</label> \\r\\n                                            <input type=\"text\" name=\"query\" id=\"query\" size=\"12\" /> \\r\\n                                            <input type=\"submit\" value=\"Go\" />\\r\\n                                            <p>\\r\\n                                                <input type=\"radio\" name=\"affiliate\" checked=\"checked\" value=\"nws.noaa.gov\" id=\"nws\" /> \\r\\n                                                <label for=\"nws\" class=\"search-scope\">NWS</label> \\r\\n                                                <input type=\"radio\" name=\"affiliate\" value=\"noaa.gov\" id=\"noaa\" /> \\r\\n                                                <label for=\"noaa\" class=\"search-scope\">All NOAA</label>\\r\\n                                            </p>\\r\\n                                        </form>\\r\\n                                    </div>\\r\\n                                </li>\\r\\n                                </ul>                            </li>\\r\\n                            <li class=\"dropdown\"><a href=\"http://www.weather.gov/about\" class=\"dropdown-toggle\" data-toggle=\"dropdown\">ABOUT&nbsp;<span class=\"caret\"></span></a><ul class=\"dropdown-menu\" role=\"menu\"><li><a href=\"http://www.weather.gov/about\">About NWS</a></li><li><a href=\"http://www.weather.gov/organization\">Organization</a></li><li><a href=\"https://www.weather.gov/media/wrn/NWS_Weather-Ready-Nation_Strategic_Plan_2019-2022.pdf\">Strategic Plan</a></li><li><a href=\"https://sites.google.com/a/noaa.gov/nws-insider/\">For NWS Employees</a></li><li><a href=\"http://www.weather.gov/international/\">International</a></li><li><a href=\"http://www.weather.gov/organization\">National Centers</a></li><li><a href=\"http://www.weather.gov/careers/\">Careers</a></li><li><a href=\"http://www.weather.gov/contact\">Contact Us</a></li><li><a href=\"https://w1.weather.gov/glossary\">Glossary</a></li></ul>                            </li>\\r\\n                                                </ul>\\r\\n                </div>\\r\\n            </div>\\r\\n        </nav>\\r\\n        \\n\\t    <div class=\"contentArea\">\\n\\t\\t\\t<!-- Start Forecastsearch -->\\n\\t<div class=\"\" id=\"fcst-search\">\\n\\t    <form name=\"getForecast\" id=\"getForecast\" class=\"form-inline\" role=\"form\" action=\"https://forecast.weather.gov/zipcity.php\" method=\"get\">\\n\\t\\t<div id=\"getfcst-body\">\\n\\t\\t    <input name=\"inputstring\" type=\"text\" class=\"form-control\" id=\"inputstring\" placeholder=\"\" />\\n\\t\\t    <input name=\"btnSearch\" id=\"btnSearch\" class=\"btn btn-default\" type=\"submit\" value=\"Go\" />\\n\\t\\t    <div id=\"txtHelp\"><a href=\"javascript:void(window.open(\\'http://weather.gov/ForecastSearchHelp.html\\',\\'locsearchhelp\\',\\'status=0,toolbar=0,location=0,menubar=0,directories=0,resizable=1,scrollbars=1,height=500,width=530\\').focus());\">View Location Examples</a></div>\\n\\t\\t</div>\\n\\t\\t<div id=\"txtError\">\\n\\t\\t    <div id=\"errorNoResults\" style=\"display:none;\">Sorry, the location you searched for was not found. Please try another search.</div>\\n\\t\\t    <div id=\"errorMultipleResults\" style=\"display:none\">Multiple locations were found. Please select one of the following:</div>\\n\\t\\t    <div id=\"errorChoices\" style=\"display:none\"></div>\\n\\t\\t    <input id=\"btnCloseError\" type=\"button\" value=\"Close\" style=\"display:none\" />\\n\\t\\t</div>\\n\\t\\t<div id=\"getfcst-head\">\\n\\t\\t    <p>Your local forecast office is</p>\\n\\t\\t    <h3 id=\"getfcst-headOffice\"></h3>\\n\\t\\t</div>\\n\\t    </form>\\n\\t</div>\\n\\t<!-- end Forecastsearch -->\\n        \\n\\t\\t<link rel=\"stylesheet\" type=\"text/css\" href=\"/css/topnews.css\">\\n<div id=\"news-items\">\\n    <div id=\"topnews\">\\n    <div class=\"icon\"><img src=\"/images/news-important.jpg\"></div>\\n    <div class=\"body\">\\n        <h1 style=\"font-size: 11pt;\">Periods of Light Snow Across the Northern Tier; Locally Heavy Rainfall Across the Southern Plains</h1>\\n        <p>\\n            Several weather systems will bring periods of light snow across the Northern Tier of the country this week.  By mid-week, locally heavy rainfall may produce some potential for flash flooding across the Southern Plains.  Meanwhile, a stagnant air mass across the Northwestern U.S. may lead to some air quality issues this week.\\n            <a href=\"http://www.wpc.ncep.noaa.gov/discussions/hpcdiscussions.php?disc=pmdspd\" target=\"_blank\">Read More &gt;</a>\\n        </p>\\n    </div>\\n</div>\\n\\n</div>\\n\\t\\t<script type=\"text/javascript\">(function ($) { var topnews = $(\"#topnews\"); topnews.hide(); $.get(\"siteNews.php\", {a:\"box\"},function(response){ if (response !== \"false\") topnews.replaceWith($(response)); topnews.show(); }); })(jQuery);</script><!-- PageFormat-Land -->\\n<script language=javascript>document.title = $(\\'<div/>\\').html(\\'7-Day Forecast for Latitude 42.36&deg;N and Longitude 71.07&deg;W (Elev. 13 ft)\\').text();</script><img src=\"images/track_land_point.png\" style=\"display:none;\" />\\n<div id=\"quickLinks\">\\n\\t<span class=\"lang-spanish\"><a href=\"//forecast.weather.gov/MapClick.php?lat=42.3587&lon=-71.0567&lg=sp\">En Espa&ntilde;ol</a></span>\\n\\t<div class=\"addthis_toolbox addthis_default_style addthis-forecast\">\\n\\t    <a href=\"//www.addthis.com/bookmark.php?v=250&amp;pubid=ra-5127a6364d551d04\" class=\"addthis_button_compact\">Share</a>\\n\\t    <span class=\"addthis_separator\">|</span>\\n\\t    <a class=\"addthis_button_preferred_1\"></a>\\n\\t    <a class=\"addthis_button_preferred_2\"></a>\\n\\t    <a class=\"addthis_button_preferred_3\"></a>\\n\\t    <a class=\"addthis_button_preferred_4\"></a>\\n\\t    <a class=\"addthis_button_preferred_5\"></a>\\n\\t</div>\\n\\t<script type=\"text/javascript\">\\n\\t\\tvar addthis_config = addthis_config || {data_track_addressbar:true, pubid: \\'xa-4b05b2d91f18c9cc\\'};\\n\\t    $(document).ready(function(){\\n\\t\\t\\tjQuery.ajax({\\n\\t\\t\\t\\turl: \"//s7.addthis.com/js/300/addthis_widget.js#async=1\",\\n\\t\\t\\t\\tdataType: \"script\",\\n\\t\\t\\t\\tcache: false\\n\\t\\t\\t});\\n\\t    });\\n\\t</script>\\n</div>\\n\\n<!-- Current Conditions -->\\n<div id=\"current-conditions\" class=\"panel panel-default\">\\n\\n\\t<!-- Current Conditions header row -->\\n    <div class=\"panel-heading\">\\n\\t\\t<div>\\n\\t\\t    <b>Current conditions at</b>\\n\\t\\t    <h2 class=\"panel-title\">Boston, Logan International Airport (KBOS)</h2>\\n\\t\\t    <span class=\"smallTxt\"><b>Lat:&nbsp;</b>42.36&deg;N<b>Lon:&nbsp;</b>71.01&deg;W<b>Elev:&nbsp;</b>20ft.</span>\\n\\t    </div>\\n    </div>\\n    <div class=\"panel-body\" id=\"current-conditions-body\">\\n\\t\\t<!-- Graphic and temperatures -->\\n\\t\\t<div id=\"current_conditions-summary\" class=\"pull-left\" >\\n\\t\\t    \\t\\t    <img src=\"newimages/large/nbkn.png\" alt=\"\" class=\"pull-left\" />\\n\\t\\t    \\t\\t    <p class=\"myforecast-current\">Mostly Cloudy</p>\\n\\t\\t    <p class=\"myforecast-current-lrg\">51&deg;F</p>\\n\\t\\t    <p class=\"myforecast-current-sm\">11&deg;C</p>\\n\\t\\t</div>\\n\\t\\t<div id=\"current_conditions_detail\" class=\"pull-left\">\\n\\t\\t    <table>\\n            <tr>\\n            <td class=\"text-right\"><b>Humidity</b></td>\\n            <td>46%</td>\\n            </tr>\\n            <tr>\\n            <td class=\"text-right\"><b>Wind Speed</b></td>\\n            <td>S 12 mph</td>\\n            </tr>\\n            <tr>\\n            <td class=\"text-right\"><b>Barometer</b></td>\\n            <td>30.33 in (1027.1 mb)</td>\\n            </tr>\\n            <tr>\\n            <td class=\"text-right\"><b>Dewpoint</b></td>\\n            <td>31&deg;F (-1&deg;C)</td>\\n            </tr>\\n            <tr>\\n            <td class=\"text-right\"><b>Visibility</b></td>\\n            <td>10.00 mi</td>\\n            </tr>\\n            <tr><td class=\"text-right\"><b>Wind Chill</b></td><td>47&deg;F (8&deg;C)</td></tr>            <tr>\\n            <td class=\"text-right\"><b>Last update</b></td>\\n            <td>\\n                4 Nov 5:54 pm EST            </td>\\n            </tr>\\n\\t\\t    </table>\\n\\t\\t</div>\\n\\t\\t<div id=\"current_conditions_station\">\\n\\t\\t    <div class=\"current-conditions-extra\">\\n                            <!-- Right hand section -->\\n            <p class=\"moreInfo\"><b>More Information:</b></p><p><a id=\"localWFO\" href=\"https://www.weather.gov/boston\" title=\"Norton, MA\"><span class=\"hideText\">Local</span> Forecast Office</a><a id=\"moreWx\" href=\"obslocal.php?warnzone=MAZ015&local_place=Boston MA&zoneid=EST&offset=18000\">More Local Wx</a><a id=\"3dayHist\" href=\"//www.weather.gov/data/obhistory/KBOS.html\">3 Day History</a><a id=\"mobileWxLink\" href=\"//mobile.weather.gov/index.php?lat=42.3587&lon=-71.0567&unit=0&lg=english\">Mobile Weather</a><a id=\"wxGraph\" href=\"MapClick.php?lat=42.3587&lon=-71.0567&unit=0&amp;lg=english&amp;FcstType=graphical\">Hourly <span class=\"hideText\">Weather </span>Forecast</a></p>\\t\\t    </div>\\n\\t\\t<!-- /current_conditions_station -->\\n\\t    </div>\\n\\t    <!-- /current-conditions-body -->\\n\\t</div>\\n<!-- /Current Conditions -->\\n</div>\\n\\n<!-- 7-Day Forecast -->\\n<div id=\"seven-day-forecast\" class=\"panel panel-default\">\\n    <div class=\"panel-heading\">\\n\\t<b>Extended Forecast for</b>\\n\\t<h2 class=\"panel-title\">\\n\\t    \\t    Boston MA\\t</h2>\\n    </div>\\n    <div class=\"panel-body\" id=\"seven-day-forecast-body\">\\n\\t\\t\\t<div id=\"seven-day-forecast-container\"><ul id=\"seven-day-forecast-list\" class=\"list-unstyled\"><li class=\"forecast-tombstone\">\\n<div class=\"tombstone-container\">\\n<p class=\"period-name\">Tonight<br><br></p>\\n<p><img src=\"newimages/medium/nbkn.png\" alt=\"Tonight: Mostly cloudy, with a low around 44. South wind 6 to 8 mph. \" title=\"Tonight: Mostly cloudy, with a low around 44. South wind 6 to 8 mph. \" class=\"forecast-icon\"></p><p class=\"short-desc\">Mostly Cloudy</p><p class=\"temp temp-low\">Low: 44 &deg;F</p></div></li><li class=\"forecast-tombstone\">\\n<div class=\"tombstone-container\">\\n<p class=\"period-name\">Tuesday<br><br></p>\\n<p><img src=\"DualImage.php?i=shra&j=shra&ip=20&jp=50\" alt=\"Tuesday: A chance of showers, mainly after noon.  Cloudy, with a high near 60. South wind 6 to 10 mph.  Chance of precipitation is 50%. New precipitation amounts of less than a tenth of an inch possible. \" title=\"Tuesday: A chance of showers, mainly after noon.  Cloudy, with a high near 60. South wind 6 to 10 mph.  Chance of precipitation is 50%. New precipitation amounts of less than a tenth of an inch possible. \" class=\"forecast-icon\"></p><p class=\"short-desc\">Slight Chance<br>Showers then<br>Chance<br>Showers</p><p class=\"temp temp-high\">High: 60 &deg;F</p></div></li><li class=\"forecast-tombstone\">\\n<div class=\"tombstone-container\">\\n<p class=\"period-name\">Tuesday<br>Night</p>\\n<p><img src=\"DualImage.php?i=nshra&j=nsct&ip=30\" alt=\"Tuesday Night: A chance of showers, mainly before 8pm.  Cloudy during the early evening, then gradual clearing, with a low around 41. West wind 7 to 9 mph.  Chance of precipitation is 30%. New precipitation amounts of less than a tenth of an inch possible. \" title=\"Tuesday Night: A chance of showers, mainly before 8pm.  Cloudy during the early evening, then gradual clearing, with a low around 41. West wind 7 to 9 mph.  Chance of precipitation is 30%. New precipitation amounts of less than a tenth of an inch possible. \" class=\"forecast-icon\"></p><p class=\"short-desc\">Chance<br>Showers then<br>Partly Cloudy</p><p class=\"temp temp-low\">Low: 41 &deg;F</p></div></li><li class=\"forecast-tombstone\">\\n<div class=\"tombstone-container\">\\n<p class=\"period-name\">Wednesday<br><br></p>\\n<p><img src=\"newimages/medium/few.png\" alt=\"Wednesday: Sunny, with a high near 49. West wind 7 to 13 mph. \" title=\"Wednesday: Sunny, with a high near 49. West wind 7 to 13 mph. \" class=\"forecast-icon\"></p><p class=\"short-desc\">Sunny</p><p class=\"temp temp-high\">High: 49 &deg;F</p></div></li><li class=\"forecast-tombstone\">\\n<div class=\"tombstone-container\">\\n<p class=\"period-name\">Wednesday<br>Night</p>\\n<p><img src=\"newimages/medium/nfew.png\" alt=\"Wednesday Night: Mostly clear, with a low around 39. Southwest wind around 7 mph. \" title=\"Wednesday Night: Mostly clear, with a low around 39. Southwest wind around 7 mph. \" class=\"forecast-icon\"></p><p class=\"short-desc\">Mostly Clear</p><p class=\"temp temp-low\">Low: 39 &deg;F</p></div></li><li class=\"forecast-tombstone\">\\n<div class=\"tombstone-container\">\\n<p class=\"period-name\">Thursday<br><br></p>\\n<p><img src=\"newimages/medium/shra30.png\" alt=\"Thursday: A chance of showers after 1pm.  Partly sunny, with a high near 53. Southwest wind 7 to 12 mph increasing to 13 to 18 mph in the afternoon.  Chance of precipitation is 30%.\" title=\"Thursday: A chance of showers after 1pm.  Partly sunny, with a high near 53. Southwest wind 7 to 12 mph increasing to 13 to 18 mph in the afternoon.  Chance of precipitation is 30%.\" class=\"forecast-icon\"></p><p class=\"short-desc\">Chance<br>Showers</p><p class=\"temp temp-high\">High: 53 &deg;F</p></div></li><li class=\"forecast-tombstone\">\\n<div class=\"tombstone-container\">\\n<p class=\"period-name\">Thursday<br>Night</p>\\n<p><img src=\"DualImage.php?i=nshra&j=nra_sn&ip=60&jp=60\" alt=\"Thursday Night: Rain showers likely before 5am, then rain and snow showers likely.  Mostly cloudy, with a low around 33. West wind 14 to 18 mph becoming north after midnight.  Chance of precipitation is 60%.\" title=\"Thursday Night: Rain showers likely before 5am, then rain and snow showers likely.  Mostly cloudy, with a low around 33. West wind 14 to 18 mph becoming north after midnight.  Chance of precipitation is 60%.\" class=\"forecast-icon\"></p><p class=\"short-desc\">Showers<br>Likely then<br>Rain/Snow<br>Likely</p><p class=\"temp temp-low\">Low: 33 &deg;F</p></div></li><li class=\"forecast-tombstone\">\\n<div class=\"tombstone-container\">\\n<p class=\"period-name\">Friday<br><br></p>\\n<p><img src=\"newimages/medium/sn50.png\" alt=\"Friday: A chance of snow showers before 1pm.  Partly sunny, with a high near 38. Breezy, with a northwest wind 16 to 20 mph, with gusts as high as 32 mph.  Chance of precipitation is 50%.\" title=\"Friday: A chance of snow showers before 1pm.  Partly sunny, with a high near 38. Breezy, with a northwest wind 16 to 20 mph, with gusts as high as 32 mph.  Chance of precipitation is 50%.\" class=\"forecast-icon\"></p><p class=\"short-desc\">Chance Snow<br>Showers and<br>Breezy</p><p class=\"temp temp-high\">High: 38 &deg;F</p></div></li><li class=\"forecast-tombstone\">\\n<div class=\"tombstone-container\">\\n<p class=\"period-name\">Friday<br>Night</p>\\n<p><img src=\"newimages/medium/nfew.png\" alt=\"Friday Night: Mostly clear, with a low around 26. Northwest wind 11 to 16 mph. \" title=\"Friday Night: Mostly clear, with a low around 26. Northwest wind 11 to 16 mph. \" class=\"forecast-icon\"></p><p class=\"short-desc\">Mostly Clear</p><p class=\"temp temp-low\">Low: 26 &deg;F</p></div></li></ul></div>\\n<script type=\"text/javascript\">\\n// equalize forecast heights\\n$(function () {\\n\\tvar maxh = 0;\\n\\t$(\".forecast-tombstone .short-desc\").each(function () {\\n\\t\\tvar h = $(this).height();\\n\\t\\tif (h > maxh) { maxh = h; }\\n\\t});\\n\\t$(\".forecast-tombstone .short-desc\").height(maxh);\\n});\\n</script>\\t</div>\\n</div>\\n\\n<!-- Everything between 7-Day Forecast and Footer goes in this row -->\\n<div id=\"floatingDivs\" class=\"row\">\\n    <!-- Everything on the left-hand side -->\\n    <div class=\"col-md-7 col-lg-8\">\\n        <!-- Detailed Forecast -->\\n        <div id=\"detailed-forecast\" class=\"panel panel-default\">\\n\\t    <div class=\"panel-heading\">\\n            <h2 class=\"panel-title\">Detailed Forecast</h2>\\n        </div>\\n\\t    <div class=\"panel-body\" id=\"detailed-forecast-body\">\\n            <div class=\"row row-odd row-forecast\"><div class=\"col-sm-2 forecast-label\"><b>Tonight</b></div><div class=\"col-sm-10 forecast-text\">Mostly cloudy, with a low around 44. South wind 6 to 8 mph. </div></div><div class=\"row row-even row-forecast\"><div class=\"col-sm-2 forecast-label\"><b>Tuesday</b></div><div class=\"col-sm-10 forecast-text\">A chance of showers, mainly after noon.  Cloudy, with a high near 60. South wind 6 to 10 mph.  Chance of precipitation is 50%. New precipitation amounts of less than a tenth of an inch possible. </div></div><div class=\"row row-odd row-forecast\"><div class=\"col-sm-2 forecast-label\"><b>Tuesday Night</b></div><div class=\"col-sm-10 forecast-text\">A chance of showers, mainly before 8pm.  Cloudy during the early evening, then gradual clearing, with a low around 41. West wind 7 to 9 mph.  Chance of precipitation is 30%. New precipitation amounts of less than a tenth of an inch possible. </div></div><div class=\"row row-even row-forecast\"><div class=\"col-sm-2 forecast-label\"><b>Wednesday</b></div><div class=\"col-sm-10 forecast-text\">Sunny, with a high near 49. West wind 7 to 13 mph. </div></div><div class=\"row row-odd row-forecast\"><div class=\"col-sm-2 forecast-label\"><b>Wednesday Night</b></div><div class=\"col-sm-10 forecast-text\">Mostly clear, with a low around 39. Southwest wind around 7 mph. </div></div><div class=\"row row-even row-forecast\"><div class=\"col-sm-2 forecast-label\"><b>Thursday</b></div><div class=\"col-sm-10 forecast-text\">A chance of showers after 1pm.  Partly sunny, with a high near 53. Southwest wind 7 to 12 mph increasing to 13 to 18 mph in the afternoon.  Chance of precipitation is 30%.</div></div><div class=\"row row-odd row-forecast\"><div class=\"col-sm-2 forecast-label\"><b>Thursday Night</b></div><div class=\"col-sm-10 forecast-text\">Rain showers likely before 5am, then rain and snow showers likely.  Mostly cloudy, with a low around 33. West wind 14 to 18 mph becoming north after midnight.  Chance of precipitation is 60%.</div></div><div class=\"row row-even row-forecast\"><div class=\"col-sm-2 forecast-label\"><b>Friday</b></div><div class=\"col-sm-10 forecast-text\">A chance of snow showers before 1pm.  Partly sunny, with a high near 38. Breezy, with a northwest wind 16 to 20 mph, with gusts as high as 32 mph.  Chance of precipitation is 50%.</div></div><div class=\"row row-odd row-forecast\"><div class=\"col-sm-2 forecast-label\"><b>Friday Night</b></div><div class=\"col-sm-10 forecast-text\">Mostly clear, with a low around 26. Northwest wind 11 to 16 mph. </div></div><div class=\"row row-even row-forecast\"><div class=\"col-sm-2 forecast-label\"><b>Saturday</b></div><div class=\"col-sm-10 forecast-text\">Sunny, with a high near 38. Northwest wind around 9 mph. </div></div><div class=\"row row-odd row-forecast\"><div class=\"col-sm-2 forecast-label\"><b>Saturday Night</b></div><div class=\"col-sm-10 forecast-text\">Mostly clear, with a low around 30. Southwest wind 6 to 8 mph. </div></div><div class=\"row row-even row-forecast\"><div class=\"col-sm-2 forecast-label\"><b>Sunday</b></div><div class=\"col-sm-10 forecast-text\">A chance of showers.  Mostly sunny, with a high near 47. Southwest wind 7 to 11 mph.  Chance of precipitation is 30%.</div></div><div class=\"row row-odd row-forecast\"><div class=\"col-sm-2 forecast-label\"><b>Sunday Night</b></div><div class=\"col-sm-10 forecast-text\">A chance of showers.  Mostly cloudy, with a low around 35. Southwest wind around 9 mph.  Chance of precipitation is 30%.</div></div><div class=\"row row-even row-forecast\"><div class=\"col-sm-2 forecast-label\"><b>Veterans Day</b></div><div class=\"col-sm-10 forecast-text\">A chance of showers.  Partly sunny, with a high near 43. West wind 7 to 9 mph.  Chance of precipitation is 30%.</div></div>        </div>\\n\\t</div>\\n\\t<!-- /Detailed Forecast -->\\n\\n        \\n        <!-- Additional Forecasts and Information -->\\n        <div id=\"additional_forecasts\" class=\"panel panel-default\">\\n\\t    <div class=\"panel-heading\">\\n\\t\\t<h2 class=\"panel-title\">Additional Forecasts and Information</h2>\\n\\t    </div>\\n\\n\\t    <div class=\"panel-body\" id=\"additional-forecasts-body\">\\n\\t\\t<p class=\"myforecast-location\"><a href=\"MapClick.php?zoneid=MAZ015\">Zone Area Forecast for Suffolk County, MA</a></p>\\n                <!-- First nine-ten links -->\\n\\t\\t<div id=\"linkBlockContainer\">\\n\\t\\t    <div class=\"linkBlock\">\\n                <ul class=\"list-unstyled\">\\n                    <li><a href=\"//forecast.weather.gov/product.php?site=BOX&issuedby=BOX&product=AFD&format=CI&version=1&glossary=1&highlight=off\">Forecast Discussion</a></li>\\n                    <li><a href=\"MapClick.php?lat=42.3587&lon=-71.0567&unit=0&lg=english&FcstType=text&TextType=2\">Printable Forecast</a></li>\\n                    <li><a href=\"MapClick.php?lat=42.3587&lon=-71.0567&unit=0&lg=english&FcstType=text&TextType=1\">Text Only Forecast</a></li>\\n                </ul>\\n            </div>\\n\\t\\t    <div class=\"linkBlock\">\\n                <ul class=\"list-unstyled\">\\n                    <li><a href=\"MapClick.php?lat=42.3587&lon=-71.0567&unit=0&lg=english&FcstType=graphical\">Hourly Weather Forecast</a></li>\\n                    <li><a href=\"MapClick.php?lat=42.3587&lon=-71.0567&unit=0&lg=english&FcstType=digital\">Tabular Forecast</a></li>\\n                    <!-- <li><a href=\"afm/PointClick.php?lat=42.3587&lon=-71.0567\">Quick Forecast</a></li> -->\\n                </ul>\\n            </div>\\n\\t\\t    <div class=\"linkBlock\">\\n                <ul class=\"list-unstyled\">\\n                    <li><a href=\"//weather.gov/aq/probe_aq_data.php?latitude=42.3587&longitude=-71.0567\">Air Quality Forecasts</a></li>\\n                    <li><a href=\"MapClick.php?lat=42.3587&lon=-71.0567&FcstType=text&unit=1&lg=en\">International System of Units</a></li>\\n                                    </ul>\\n\\t\\t    </div>\\n\\t\\t    <!-- /First nine-ten links -->\\n                <!-- Additional links -->\\n                    <div class=\"linkBlock\"><ul class=\"list-unstyled\"><li><a href=\"https://forecast.weather.gov/product.php?site=NWS&issuedby=BOX&product=HWO&format=CI&version=1&glossary=1&highlight=off\" target=\"_self\">Hazardous Weather</a></li><li><a href=\"https://forecast.weather.gov/product.php?site=BOX&issuedby=BOX&product=RWR&format=CI&version=1\" target=\"_self\">Regional Weather Conditions</a></li></ul></div><div class=\"linkBlock\"><ul class=\"list-unstyled\"><li><a href=\"https://w2.weather.gov/climate/index.php?wfo=box\" target=\"_self\">Past Weather Information</a></li><li><a href=\"https://graphical.weather.gov/sectors/box.php\" target=\"_self\">Interactive Forecast Map</a></li></ul></div><div class=\"linkBlock\"><ul class=\"list-unstyled\"><li><a href=\"https://forecast.weather.gov/product.php?site=NWS&issuedby=BOX&product=RWS&format=CI&version=1&glossary=1&highlight=off\" target=\"_self\">Regional Weather Story</a></li><li><a href=\"https://www.weather.gov/box/\" target=\"_self\">Home</a></li></ul></div>\\n\\t\\t</div> <!-- /linkBlockContainer -->\\n\\t    </div><!-- /additional-forecasts-body-->\\n\\t</div> <!-- /additional_forecasts -->\\n    </div> <!-- /Everything on the left-hand side -->\\n\\n    <!-- right-side-data -->\\n    <div class=\"col-md-5 col-lg-4\" id=\"right-side-data\">\\n\\t<div id=\"mapAndDescriptionArea\">\\n        <!-- openlayer map -->\\n            <style>\\n#custom-search{\\ndisplay: block;\\nposition: relative;\\nz-index: 50;\\ntop: 52px;\\nleft: 60px;\\n}\\n#esri-geocoder-search{\\ndisplay: block;\\nposition: relative;\\nz-index: 50;\\ntop: 52px;\\nleft: 60px;\\n}\\n#emap{\\nmargin-top:15px;\\ncursor:pointer;\\nheight:370px;\\nwidth:100%;\\nborder: 1px solid #ccc;\\nborder-radius: 3px;\\n}\\n#switch-basemap-container{\\n}\\n#basemap-selection-form ul{\\nlist-style: none;\\n margin: 0px;\\n}\\n#basemap-selection-form li{\\nfloat: left;\\n}\\n.disclaimer{\\nmargin-top:350px;\\nmargin-left: 5px;\\nz-index: 100;\\nposition: absolute;\\ntext-transform: none;\\n}\\n.esriAttributionLastItem{\\ntext-transform: none;\\n}\\n.esriSimpleSlider div{\\nheight:22px;\\nline-height:20px;\\nwidth:20px;\\n}\\n#point-forecast-map-label {\\ntext-align:center;\\nfont-weight:bold;\\ncolor:black;\\n}\\n@media (max-width: 767px) {\\n#emap{\\nmargin-top:.5em;\\nheight:270px;\\n}\\n.disclaimer{\\nmargin-top:250px;\\n}\\n}\\n</style>\\n<!-- forecast-map -->\\n<div class=\\'point-forecast-map\\'>\\n    <div class=\\'point-forecast-map-header text-center\\'>\\n        <div id=\"toolbar\">\\n    \\t<div id=\"switch-basemap-container\">\\n    \\t    <div id=\"basemap-selection-form\" title=\"Choose a Basemap\">\\n    \\t\\t<div id=\"basemap-menu\">\\n    \\t\\t    <select name=\"basemap-selected\" id=\"basemap-selected\" autocomplete=\"off\" title=\"Basemap Dropdown Menu\">\\n    \\t\\t    <option value=\"none\">Select Basemap</option>\\n    \\t\\t    <option value=\"topo\" selected>Topographic</option>\\n    \\t\\t    <option value=\"streets\">Streets</option>\\n    \\t\\t    <option value=\"satellite\">Satellite</option>\\n    \\t\\t    <option value=\"ocean\">Ocean</option>\\n    \\t\\t    </select>\\n    \\t\\t</div>\\n    \\t    </div>\\n    \\t    <div id=\"point-forecast-map-label\">\\n                    Click Map For Forecast\\n                </div>\\n    \\t</div><!-- //#switch-basemap-container -->\\n    \\t<div style=\"clear:both;\"></div>\\n        </div><!-- //#toolbar -->\\n    </div><!-- //.point-forecast-map-header -->\\n\\n    <div id=\"emap\">\\n        <noscript><center><br><br><b>Map function requires Javascript and a compatible browser.</b></center></noscript>\\n        <div class=\"disclaimer\"><a href=\\'http://www.weather.gov/disclaimer#esri\\'>Disclaimer</a></div>\\n    </div><!-- //#emap -->\\n\\n    <div class=\"point-forecast-map-footer\">\\n        <img src=\"./images/wtf/maplegend_forecast-area.gif\" width=\"100\" height=\"16\" alt=\"Map Legend\">\\n    </div><!-- //.point-forecast-map-footer -->\\n\\n</div> <!-- //.point-forecast-map -->\\n<!-- //forecast-map -->\\n        <!-- //openlayer map -->\\n\\n\\t    <!-- About this Forecast -->\\n        <div id=\"about_forecast\">\\n            <div class=\"fullRow\">\\n                <div class=\"left\">Point Forecast:</div>\\n                <div class=\"right\">Boston MA<br>&nbsp;42.36&deg;N 71.07&deg;W (Elev. 13 ft)</div>\\n                    </div>\\n            <div class=\"fullRow\">\\n                <div class=\"left\"><a target=\"_blank\" href=\"//www.weather.gov/glossary/index.php?word=Last+update\">Last Update</a>: </div>\\n                <div class=\"right\">6:32 pm EST Nov 4, 2019</div>\\n            </div>\\n            <div class=\"fullRow\">\\n                <div class=\"left\"><a target=\"_blank\" href=\"//www.weather.gov/glossary/index.php?word=forecast+valid+for\">Forecast Valid</a>: </div>\\n                <div class=\"right\">7pm EST Nov 4, 2019-6pm EST Nov 11, 2019</div>\\n            </div>\\n            <div class=\"fullRow\">\\n                <div class=\"left\">&nbsp;</div>\\n                <div class=\"right\"><a href=\"https://forecast.weather.gov/product.php?site=BOX&issuedby=BOX&product=AFD&format=CI&version=1&glossary=1\">Forecast Discussion</a></div>\\n            </div>\\n            <div class=\"fullRow\">\\n                <div class=\"left\">&nbsp;</div>\\n                <div class=\"right\">\\n                    <a href=\"MapClick.php?lat=42.3587&lon=-71.0567&unit=0&lg=english&FcstType=kml\"><img src=\"/images/wtf/kml_badge.png\" width=\"45\" height=\"17\" alt=\"Get as KML\" /></a>\\n                    <a href=\"MapClick.php?lat=42.3587&lon=-71.0567&unit=0&lg=english&FcstType=dwml\"><img src=\"/images/wtf/xml_badge.png\" width=\"45\" height=\"17\" alt=\"Get as XML\" /></a>\\n                </div>\\n            </div>\\n        </div>\\n\\t    <!-- /About this Forecast -->\\n\\t</div>\\n    \\n        <!--additionalForecast-->\\n        <div class=\"panel panel-default\" id=\"additionalForecast\">\\n            <div class=\"panel-heading\">\\n                <h2 class=\"panel-title\">Additional Resources</h2>\\n            </div>\\n            <div class=\"panel-body\">\\n\\n                <!-- Radar & Satellite Images -->\\n                <div id=\"radar\" class=\"subItem\">\\n                    <h4>Radar &amp; Satellite Image</h4>\\n                    <a href=\"//radar.weather.gov/radar.php?rid=box&product=N0R&overlay=11101111&loop=no\"><img src=\"//radar.weather.gov/Thumbs/BOX_Thumb.gif\" class=\"radar-thumb\" alt=\"Link to Local Radar Data\" title=\"Link to Local Radar Data\"></a>                    <a href=\"https://www.star.nesdis.noaa.gov/GOES/GOES16_CONUS.php\"><img src=\"https://cdn.star.nesdis.noaa.gov/GOES16/ABI/CONUS/GEOCOLOR/625x375.jpg\" class=\"satellite-thumb\" alt=\"Link to Satellite Data\" title=\"Link to Satellite Data\"></a>                </div>\\n                <!-- /Radar & Satellite Images -->\\n                <!-- Hourly Weather Forecast -->\\n                <div id=\"feature\" class=\"subItem\">\\n                    <h4>Hourly Weather Forecast</h4>\\n                    <a href=\"MapClick.php?lat=42.3587&lon=-71.0567&unit=0&lg=english&FcstType=graphical\"><img src=\"newimages/medium/hourlyweather.png\" class=\"img-responsive\" /></a>\\n                </div>\\n                <!-- /Hourly Weather Forecast -->\\n                <!-- NDFD -->\\n                <div id=\"NDFD\" class=\"subItem\">\\n                    <h4>National Digital Forecast Database</h4>\\n                    <div class=\"one-sixth-first\"><a href=\"//graphical.weather.gov/sectors/northeast.php?element=MaxT\"><img src=\"//graphical.weather.gov/images/thumbnail/latest_MaxMinT_northeast_thumbnail.png\" border=\"0\" alt=\"National Digital Forecast Database Maximum Temperature Forecast\" title=\"National Digital Forecast Database Maximum Temperature Forecast\" width=\"147\" height=\"150\"></a>\\n\\t \\t\\t\\t<p><a href=\"//graphical.weather.gov/sectors/northeast.php?element=MaxT\">High Temperature</a></p></div><div class=\"one-sixth-first\"><a href=\"//graphical.weather.gov/sectors/northeast.php?element=Wx\"><img src=\"//graphical.weather.gov/images/thumbnail/latest_Wx_northeast_thumbnail.png\" border=\"0\" alt=\"National Digital Forecast Database Weather Element Forecast\" title=\"National Digital Forecast Database Weather Element Forecast\" width=\"147\" height=\"150\"></a>\\n\\t \\t\\t\\t<p><a href=\"//graphical.weather.gov/sectors/northeast.php?element=Wx\">Chance of Precipitation</a></p></div>                </div>\\n                <!-- /NDFD -->\\n            </div>\\n        </div>\\n        <!-- /additionalForecast -->\\n\\n    </div>\\n    <!-- /col-md-4 -->\\n    <!-- /right-side-data -->\\n    <script language=\\'javascript\\'>$( document ).ready(function() { load_openlayers_map(\\'\\', \\'\\', \\'\\', \\'{\"centroid_lat\":\"42.3587\",\"centroid_lon\":\"-71.0567\",\"lat1\":\"42.3535\",\"lon1\":\"-71.0875\",\"lat2\":\"42.3745\",\"lon2\":\"-71.082\",\"lat3\":\"42.3705\",\"lon3\":\"-71.053\",\"lat4\":\"42.3495\",\"lon4\":\"-71.0585\"}\\') });</script></div>\\n<!-- /row  -->\\n\\n\\n</div>\\n<!-- /PageFormat-Land -->\\n\\n\\t    </div>\\n            <footer>\\n                        <div id=\"sitemap\" class=\"sitemap-content row\">\\r\\n            <div class=\"col-xs-12\">\\r\\n                <div class=\"sitemap-columns\">\\r\\n                                                    <div class=\"sitemap-section\">\\r\\n                                    <div class=\"panel-heading\">\\r\\n                                        <a class=\"sitemap-section-heading\" href=\" http://www.nws.noaa.gov/climate/\">PAST WEATHER</a>\\r\\n                                        <button type=\"button\" class=\"menu-toggle pull-right\" data-toggle=\"collapse\" data-target=\"#sitemap-1\">\\r\\n                                            <span class=\"sr-only\">Toggle menu</span>\\r\\n                                            <span class=\"icon-bar\"></span>\\r\\n                                            <span class=\"icon-bar\"></span>\\r\\n                                            <span class=\"icon-bar\"></span>\\r\\n                                        </button>\\r\\n                                    </div>\\r\\n                                    <div class=\"sitemap-section-body panel-body collapsable collapse\" id=\"sitemap-1\">\\r\\n                                        <ul class=\"list-unstyled\">\\r\\n                                                                                            <li><a href=\" http://www.cpc.ncep.noaa.gov/products/MD_index.shtml\">Climate Monitoring </a></li>\\r\\n                                                                                                <li><a href=\"https://w2.weather.gov/climate/\">Past Weather </a></li>\\r\\n                                                                                                <li><a href=\" http://www.nws.noaa.gov/climate/\">Monthly Temps </a></li>\\r\\n                                                                                                <li><a href=\" http://www.nws.noaa.gov/climate/\">Records </a></li>\\r\\n                                                                                                <li><a href=\" http://aa.usno.navy.mil/\">Astronomical Data </a></li>\\r\\n                                                                                                <li><a href=\"https://www.climate.gov/maps-data/dataset/past-weather-zip-code-data-table\">Certified Weather Data </a></li>\\r\\n                                                                                        </ul>\\r\\n                                    </div>\\r\\n                                </div>\\r\\n                                                                <div class=\"sitemap-section\">\\r\\n                                    <div class=\"panel-heading\">\\r\\n                                        <a class=\"sitemap-section-heading\" href=\"http://alerts.weather.gov\">ACTIVE ALERTS</a>\\r\\n                                        <button type=\"button\" class=\"menu-toggle pull-right\" data-toggle=\"collapse\" data-target=\"#sitemap-2\">\\r\\n                                            <span class=\"sr-only\">Toggle menu</span>\\r\\n                                            <span class=\"icon-bar\"></span>\\r\\n                                            <span class=\"icon-bar\"></span>\\r\\n                                            <span class=\"icon-bar\"></span>\\r\\n                                        </button>\\r\\n                                    </div>\\r\\n                                    <div class=\"sitemap-section-body panel-body collapsable collapse\" id=\"sitemap-2\">\\r\\n                                        <ul class=\"list-unstyled\">\\r\\n                                                                                            <li><a href=\" http://alerts.weather.gov\">Warnings By State</a></li>\\r\\n                                                                                                <li><a href=\" http://www.wpc.ncep.noaa.gov/ww.shtml\">Excessive Rainfall and Winter Weather Forecasts</a></li>\\r\\n                                                                                                <li><a href=\"http://water.weather.gov/ahps/?current_color=flood&amp;current_type=all&amp;fcst_type=obs&amp;conus_map=d_map\">River Flooding </a></li>\\r\\n                                                                                                <li><a href=\" http://www.weather.gov\">Latest Warnings</a></li>\\r\\n                                                                                                <li><a href=\" http://www.spc.noaa.gov/products/outlook/\">Thunderstorm/Tornado Outlook </a></li>\\r\\n                                                                                                <li><a href=\" http://www.nhc.noaa.gov/\">Hurricanes </a></li>\\r\\n                                                                                                <li><a href=\" http://www.spc.noaa.gov/products/fire_wx/\">Fire Weather Outlooks </a></li>\\r\\n                                                                                                <li><a href=\" http://www.cpc.ncep.noaa.gov/products/stratosphere/uv_index/uv_alert.shtml\">UV Alerts </a></li>\\r\\n                                                                                                <li><a href=\" http://www.drought.gov/\">Drought </a></li>\\r\\n                                                                                                <li><a href=\"http://www.swpc.noaa.gov/products/alerts-watches-and-warnings\">Space Weather </a></li>\\r\\n                                                                                                <li><a href=\" http://www.nws.noaa.gov/nwr/\">NOAA Weather Radio </a></li>\\r\\n                                                                                                <li><a href=\" http://alerts.weather.gov/\">NWS CAP Feeds </a></li>\\r\\n                                                                                        </ul>\\r\\n                                    </div>\\r\\n                                </div>\\r\\n                                                                <div class=\"sitemap-section\">\\r\\n                                    <div class=\"panel-heading\">\\r\\n                                        <a class=\"sitemap-section-heading\" href=\"http://www.weather.gov/current\">CURRENT CONDITIONS</a>\\r\\n                                        <button type=\"button\" class=\"menu-toggle pull-right\" data-toggle=\"collapse\" data-target=\"#sitemap-3\">\\r\\n                                            <span class=\"sr-only\">Toggle menu</span>\\r\\n                                            <span class=\"icon-bar\"></span>\\r\\n                                            <span class=\"icon-bar\"></span>\\r\\n                                            <span class=\"icon-bar\"></span>\\r\\n                                        </button>\\r\\n                                    </div>\\r\\n                                    <div class=\"sitemap-section-body panel-body collapsable collapse\" id=\"sitemap-3\">\\r\\n                                        <ul class=\"list-unstyled\">\\r\\n                                                                                            <li><a href=\" http://www.weather.gov/Radar\">Radar </a></li>\\r\\n                                                                                                <li><a href=\"http://www.cpc.ncep.noaa.gov/products/monitoring_and_data/\">Climate Monitoring </a></li>\\r\\n                                                                                                <li><a href=\" http://water.weather.gov/ahps/\">River Levels </a></li>\\r\\n                                                                                                <li><a href=\" http://water.weather.gov/precip/\">Observed Precipitation </a></li>\\r\\n                                                                                                <li><a href=\"https://www.wpc.ncep.noaa.gov/sfc/sfcobs/sfcobs.shtml\">Surface Weather </a></li>\\r\\n                                                                                                <li><a href=\"http://www.spc.noaa.gov/obswx/maps/\">Upper Air </a></li>\\r\\n                                                                                                <li><a href=\" http://www.ndbc.noaa.gov/\">Marine and Buoy Reports </a></li>\\r\\n                                                                                                <li><a href=\"http://www.nohrsc.noaa.gov/interactive/html/map.html\">Snow Cover </a></li>\\r\\n                                                                                                <li><a href=\" http://www.weather.gov/satellite\">Satellite </a></li>\\r\\n                                                                                                <li><a href=\" http://www.swpc.noaa.gov/\">Space Weather </a></li>\\r\\n                                                                                                <li><a href=\"http://www.weather.gov/pr\">International Observations</a></li>\\r\\n                                                                                        </ul>\\r\\n                                    </div>\\r\\n                                </div>\\r\\n                                                                <div class=\"sitemap-section\">\\r\\n                                    <div class=\"panel-heading\">\\r\\n                                        <a class=\"sitemap-section-heading\" href=\"http://weather.gov/forecastmaps\">FORECAST</a>\\r\\n                                        <button type=\"button\" class=\"menu-toggle pull-right\" data-toggle=\"collapse\" data-target=\"#sitemap-4\">\\r\\n                                            <span class=\"sr-only\">Toggle menu</span>\\r\\n                                            <span class=\"icon-bar\"></span>\\r\\n                                            <span class=\"icon-bar\"></span>\\r\\n                                            <span class=\"icon-bar\"></span>\\r\\n                                        </button>\\r\\n                                    </div>\\r\\n                                    <div class=\"sitemap-section-body panel-body collapsable collapse\" id=\"sitemap-4\">\\r\\n                                        <ul class=\"list-unstyled\">\\r\\n                                                                                            <li><a href=\" http://www.weather.gov/\">Local Forecast </a></li>\\r\\n                                                                                                <li><a href=\"http://www.weather.gov/pr\">International Forecasts</a></li>\\r\\n                                                                                                <li><a href=\" http://www.spc.noaa.gov/\">Severe Weather </a></li>\\r\\n                                                                                                <li><a href=\" http://www.wpc.ncep.noaa.gov/\">Current Outlook Maps </a></li>\\r\\n                                                                                                <li><a href=\"http://www.cpc.ncep.noaa.gov/products/Drought\">Drought </a></li>\\r\\n                                                                                                <li><a href=\"http://www.weather.gov/fire\">Fire Weather </a></li>\\r\\n                                                                                                <li><a href=\" http://www.wpc.ncep.noaa.gov/\">Fronts/Precipitation Maps </a></li>\\r\\n                                                                                                <li><a href=\" http://www.nws.noaa.gov/forecasts/graphical/\">Current Graphical Forecast Maps </a></li>\\r\\n                                                                                                <li><a href=\"http://water.weather.gov/ahps/forecasts.php\">Rivers </a></li>\\r\\n                                                                                                <li><a href=\" http://www.nws.noaa.gov/om/marine/home.htm\">Marine </a></li>\\r\\n                                                                                                <li><a href=\"http://www.opc.ncep.noaa.gov/marine_areas.php\">Offshore and High Seas</a></li>\\r\\n                                                                                                <li><a href=\" http://www.nhc.noaa.gov/\">Hurricanes </a></li>\\r\\n                                                                                                <li><a href=\" http://aviationweather.gov\">Aviation Weather </a></li>\\r\\n                                                                                                <li><a href=\"http://www.cpc.ncep.noaa.gov/products/OUTLOOKS_index.shtml\">Climatic Outlook </a></li>\\r\\n                                                                                        </ul>\\r\\n                                    </div>\\r\\n                                </div>\\r\\n                                                                <div class=\"sitemap-section\">\\r\\n                                    <div class=\"panel-heading\">\\r\\n                                        <a class=\"sitemap-section-heading\" href=\"http://www.weather.gov/informationcenter\">INFORMATION CENTER</a>\\r\\n                                        <button type=\"button\" class=\"menu-toggle pull-right\" data-toggle=\"collapse\" data-target=\"#sitemap-5\">\\r\\n                                            <span class=\"sr-only\">Toggle menu</span>\\r\\n                                            <span class=\"icon-bar\"></span>\\r\\n                                            <span class=\"icon-bar\"></span>\\r\\n                                            <span class=\"icon-bar\"></span>\\r\\n                                        </button>\\r\\n                                    </div>\\r\\n                                    <div class=\"sitemap-section-body panel-body collapsable collapse\" id=\"sitemap-5\">\\r\\n                                        <ul class=\"list-unstyled\">\\r\\n                                                                                            <li><a href=\" http://www.spaceweather.gov\">Space Weather </a></li>\\r\\n                                                                                                <li><a href=\"http://www.weather.gov/briefing/\">Daily Briefing </a></li>\\r\\n                                                                                                <li><a href=\" http://www.nws.noaa.gov/om/marine/home.htm\">Marine </a></li>\\r\\n                                                                                                <li><a href=\"http://www.nws.noaa.gov/climate\">Climate </a></li>\\r\\n                                                                                                <li><a href=\"http://www.weather.gov/fire\">Fire Weather </a></li>\\r\\n                                                                                                <li><a href=\" http://www.aviationweather.gov/\">Aviation </a></li>\\r\\n                                                                                                <li><a href=\"http://mag.ncep.noaa.gov/\">Forecast Models </a></li>\\r\\n                                                                                                <li><a href=\"http://water.weather.gov/ahps/\">Water </a></li>\\r\\n                                                                                                <li><a href=\"https://www.weather.gov/gis/\">GIS</a></li>\\r\\n                                                                                                <li><a href=\" http://www.nws.noaa.gov/om/coop/\">Cooperative Observers </a></li>\\r\\n                                                                                                <li><a href=\"https://www.weather.gov/skywarn/\">Storm Spotters </a></li>\\r\\n                                                                                                <li><a href=\"http://www.tsunami.gov\">Tsunami Warning System</a></li>\\r\\n                                                                                                <li><a href=\"http://water.noaa.gov/\">National Water Center</a></li>\\r\\n                                                                                                <li><a href=\"http://www.weather.gov/pr\">International Weather</a></li>\\r\\n                                                                                        </ul>\\r\\n                                    </div>\\r\\n                                </div>\\r\\n                                                                <div class=\"sitemap-section\">\\r\\n                                    <div class=\"panel-heading\">\\r\\n                                        <a class=\"sitemap-section-heading\" href=\"http://weather.gov/safety\">WEATHER SAFETY</a>\\r\\n                                        <button type=\"button\" class=\"menu-toggle pull-right\" data-toggle=\"collapse\" data-target=\"#sitemap-6\">\\r\\n                                            <span class=\"sr-only\">Toggle menu</span>\\r\\n                                            <span class=\"icon-bar\"></span>\\r\\n                                            <span class=\"icon-bar\"></span>\\r\\n                                            <span class=\"icon-bar\"></span>\\r\\n                                        </button>\\r\\n                                    </div>\\r\\n                                    <div class=\"sitemap-section-body panel-body collapsable collapse\" id=\"sitemap-6\">\\r\\n                                        <ul class=\"list-unstyled\">\\r\\n                                                                                            <li><a href=\"http://www.weather.gov/nwr/\">NOAA Weather Radio</a></li>\\r\\n                                                                                                <li><a href=\"http://www.weather.gov/stormready/\">StormReady</a></li>\\r\\n                                                                                                <li><a href=\"http://www.nws.noaa.gov/om/heat/index.shtml\">Heat </a></li>\\r\\n                                                                                                <li><a href=\"https://www.weather.gov/safety/lightning\">Lightning </a></li>\\r\\n                                                                                                <li><a href=\" http://www.nhc.noaa.gov/prepare/\">Hurricanes </a></li>\\r\\n                                                                                                <li><a href=\"http://www.nws.noaa.gov/om/thunderstorm/\">Thunderstorms </a></li>\\r\\n                                                                                                <li><a href=\"https://www.weather.gov/safety/tornado\">Tornadoes </a></li>\\r\\n                                                                                                <li><a href=\"https://www.weather.gov/safety/ripcurrent\">Rip Currents </a></li>\\r\\n                                                                                                <li><a href=\"https://www.weather.gov/safety/flood\">Floods </a></li>\\r\\n                                                                                                <li><a href=\"https://www.weather.gov/safety/tsunami\">Tsunamis</a></li>\\r\\n                                                                                                <li><a href=\"https://www.weather.gov/tsunamiready/\">TsunamiReady</a></li>\\r\\n                                                                                                <li><a href=\" http://www.weather.gov/om/winter/index.shtml\">Winter Weather </a></li>\\r\\n                                                                                                <li><a href=\"http://www.nws.noaa.gov/om/heat/uv.shtml\">Ultra Violet Radiation </a></li>\\r\\n                                                                                                <li><a href=\" http://www.weather.gov/airquality/\">Air Quality </a></li>\\r\\n                                                                                                <li><a href=\" http://www.weather.gov/om/hazstats.shtml\">Damage/Fatality/Injury Statistics </a></li>\\r\\n                                                                                                <li><a href=\" http://www.redcross.org/\">Red Cross </a></li>\\r\\n                                                                                                <li><a href=\" http://www.fema.gov/\">Federal Emergency Management Agency (FEMA) </a></li>\\r\\n                                                                                                <li><a href=\" http://www.weather.gov/om/brochures.shtml\">Brochures </a></li>\\r\\n                                                                                                <li><a href=\"http://www.nws.noaa.gov/os/marine/safeboating/\">Safe Boating</a></li>\\r\\n                                                                                        </ul>\\r\\n                                    </div>\\r\\n                                </div>\\r\\n                                                                <div class=\"sitemap-section\">\\r\\n                                    <div class=\"panel-heading\">\\r\\n                                        <a class=\"sitemap-section-heading\" href=\"http://weather.gov/news\">NEWS</a>\\r\\n                                        <button type=\"button\" class=\"menu-toggle pull-right\" data-toggle=\"collapse\" data-target=\"#sitemap-7\">\\r\\n                                            <span class=\"sr-only\">Toggle menu</span>\\r\\n                                            <span class=\"icon-bar\"></span>\\r\\n                                            <span class=\"icon-bar\"></span>\\r\\n                                            <span class=\"icon-bar\"></span>\\r\\n                                        </button>\\r\\n                                    </div>\\r\\n                                    <div class=\"sitemap-section-body panel-body collapsable collapse\" id=\"sitemap-7\">\\r\\n                                        <ul class=\"list-unstyled\">\\r\\n                                                                                            <li><a href=\" http://weather.gov/news\">Newsroom</a></li>\\r\\n                                                                                                <li><a href=\" http://weather.gov/socialmedia\">Social Media </a></li>\\r\\n                                                                                                <li><a href=\"http://www.nws.noaa.gov/com/weatherreadynation/calendar.html\">Events</a></li>\\r\\n                                                                                                <li><a href=\" http://www.weather.gov/om/brochures.shtml\">Pubs/Brochures/Booklets </a></li>\\r\\n                                                                                        </ul>\\r\\n                                    </div>\\r\\n                                </div>\\r\\n                                                                <div class=\"sitemap-section\">\\r\\n                                    <div class=\"panel-heading\">\\r\\n                                        <a class=\"sitemap-section-heading\" href=\"http://weather.gov/owlie\">EDUCATION</a>\\r\\n                                        <button type=\"button\" class=\"menu-toggle pull-right\" data-toggle=\"collapse\" data-target=\"#sitemap-8\">\\r\\n                                            <span class=\"sr-only\">Toggle menu</span>\\r\\n                                            <span class=\"icon-bar\"></span>\\r\\n                                            <span class=\"icon-bar\"></span>\\r\\n                                            <span class=\"icon-bar\"></span>\\r\\n                                        </button>\\r\\n                                    </div>\\r\\n                                    <div class=\"sitemap-section-body panel-body collapsable collapse\" id=\"sitemap-8\">\\r\\n                                        <ul class=\"list-unstyled\">\\r\\n                                                                                            <li><a href=\"http://weather.gov/owlie\">NWS Education Home</a></li>\\r\\n                                                                                                <li><a href=\"http://www.nws.noaa.gov/com/weatherreadynation/force.html\">Be A Force of Nature</a></li>\\r\\n                                                                                                <li><a href=\" http://www.education.noaa.gov/Weather_and_Atmosphere/\">NOAA Education Resources </a></li>\\r\\n                                                                                                <li><a href=\" http://www.weather.gov/glossary/\">Glossary </a></li>\\r\\n                                                                                                <li><a href=\"https://www.weather.gov/jetstream/\">JetStream </a></li>\\r\\n                                                                                                <li><a href=\" http://www.weather.gov/training/\">NWS Training Portal </a></li>\\r\\n                                                                                                <li><a href=\"https://library.noaa.gov/\">NOAA Library </a></li>\\r\\n                                                                                                <li><a href=\"http://weather.gov/owlie\">For Students, Parents and Teachers</a></li>\\r\\n                                                                                                <li><a href=\"http://www.weather.gov/owlie/publication_brochures\">Brochures </a></li>\\r\\n                                                                                        </ul>\\r\\n                                    </div>\\r\\n                                </div>\\r\\n                                                                <div class=\"sitemap-section\">\\r\\n                                    <div class=\"panel-heading\">\\r\\n                                        <a class=\"sitemap-section-heading\" href=\"http://weather.gov/about\">ABOUT</a>\\r\\n                                        <button type=\"button\" class=\"menu-toggle pull-right\" data-toggle=\"collapse\" data-target=\"#sitemap-9\">\\r\\n                                            <span class=\"sr-only\">Toggle menu</span>\\r\\n                                            <span class=\"icon-bar\"></span>\\r\\n                                            <span class=\"icon-bar\"></span>\\r\\n                                            <span class=\"icon-bar\"></span>\\r\\n                                        </button>\\r\\n                                    </div>\\r\\n                                    <div class=\"sitemap-section-body panel-body collapsable collapse\" id=\"sitemap-9\">\\r\\n                                        <ul class=\"list-unstyled\">\\r\\n                                                                                            <li><a href=\"http://weather.gov/organization\">Organization </a></li>\\r\\n                                                                                                <li><a href=\"https://www.weather.gov/media/wrn/NWS_Weather-Ready-Nation_Strategic_Plan_2019-2022.pdf\">Strategic Plan </a></li>\\r\\n                                                                                                <li><a href=\"https://sites.google.com/a/noaa.gov/nws-best-practices/\">For NWS Employees </a></li>\\r\\n                                                                                                <li><a href=\"https://www.weather.gov/international/\">International </a></li>\\r\\n                                                                                                <li><a href=\"http://www.ncep.noaa.gov/\">National Centers </a></li>\\r\\n                                                                                                <li><a href=\" http://www.weather.gov/tg/\">Products and Services </a></li>\\r\\n                                                                                                <li><a href=\"http://www.weather.gov/careers/\">Careers</a></li>\\r\\n                                                                                                <li><a href=\" http://www.weather.gov/glossary/\">Glossary </a></li>\\r\\n                                                                                                <li><a href=\"http://weather.gov/contact\">Contact Us </a></li>\\r\\n                                                                                        </ul>\\r\\n                                    </div>\\r\\n                                </div>\\r\\n                                                </div>\\r\\n            </div>\\r\\n        </div>\\r\\n        \\n                <!-- legal footer area -->\\n                \\t\\t<div class=\"footer-legal\">\\r\\n\\t\\t\\t<div id=\"footerLogo\" class=\"col-xs-12 col-sm-2 col-md-2\">\\r\\n\\t\\t\\t\\t<a href=\"http://www.usa.gov\"><img src=\"/css/images/usa_gov.png\" alt=\"usa.gov\" width=\"110\" height=\"30\" /></a>\\r\\n\\t\\t\\t</div>\\r\\n\\t\\t\\t<div class=\"col-xs-12 col-sm-4 col-md-4\">\\r\\n\\t\\t\\t\\t<ul class=\"list-unstyled footer-legal-content\">\\r\\n\\t\\t\\t\\t<li><a href=\"http://www.commerce.gov\">US Dept of Commerce</a></li>\\r\\n\\t\\t\\t\\t<li><a href=\"http://www.noaa.gov\">National Oceanic and Atmospheric Administration</a></li>\\r\\n\\t\\t\\t\\t<li><a href=\"http://www.weather.gov\">National Weather Service</a></li>\\r\\n\\t\\t\\t\\t<li><a href=\"https://www.weather.gov/box\">Boston / Norton, MA</a></li><li><br /><a href=\"mailto:box.webmaster@noaa.gov\">Comments? Questions? Please Contact Us.</a></li>\\t\\t\\t\\t</ul>\\r\\n\\t\\t\\t</div>\\r\\n\\t\\t\\t<div class=\"col-xs-12 col-sm-3 col-md-3\">\\r\\n\\t\\t\\t\\t<ul class=\"list-unstyled\">\\r\\n\\t\\t\\t\\t\\t<li><a href=\"https://www.weather.gov/disclaimer\">Disclaimer</a></li>\\r\\n\\t\\t\\t\\t\\t<li><a href=\"http://www.cio.noaa.gov/services_programs/info_quality.html\">Information Quality</a></li>\\r\\n\\t\\t\\t\\t\\t<li><a href=\"https://www.weather.gov/help\">Help</a></li>\\r\\n\\t\\t\\t\\t\\t<li><a href=\"http://www.weather.gov/glossary\">Glossary</a></li>\\r\\n\\t\\t\\t\\t</ul>\\r\\n\\t\\t\\t</div>\\r\\n\\t\\t\\t<div class=\"col-xs-12 col-sm-3 col-md-3\">\\r\\n\\t\\t\\t\\t<ul class=\"list-unstyled\">\\r\\n\\t\\t\\t\\t\\t<li><a href=\"https://www.weather.gov/privacy\">Privacy Policy</a></li>\\r\\n\\t\\t\\t\\t\\t<li><a href=\"http://www.rdc.noaa.gov/~foia\">Freedom of Information Act (FOIA)</a></li>\\r\\n\\t\\t\\t\\t\\t<li><a href=\"https://www.weather.gov/about\">About Us</a></li>\\r\\n\\t\\t\\t\\t\\t<li><a href=\"https://www.weather.gov/careers\">Career Opportunities</a></li>\\r\\n\\t\\t\\t\\t</ul>\\r\\n\\t\\t\\t</div>\\r\\n\\t\\t</div>\\r\\n\\t\\t\\n            </footer>\\n        </main>\\n    </body>\\n</html>\\n'\n"
          ],
          "name": "stdout"
        }
      ]
    },
    {
      "cell_type": "markdown",
      "metadata": {
        "id": "ibsmaN6qv9Hf",
        "colab_type": "text"
      },
      "source": [
        "As you can see, the HTML is messy. Lucky for us we can use `BeautifulSoup4` to parse it."
      ]
    },
    {
      "cell_type": "code",
      "metadata": {
        "id": "iXDw5kYdwEC9",
        "colab_type": "code",
        "colab": {}
      },
      "source": [
        "soup = BeautifulSoup(page.content, 'html.parser')\n",
        "print(soup)"
      ],
      "execution_count": 0,
      "outputs": []
    },
    {
      "cell_type": "markdown",
      "metadata": {
        "id": "QckKt57BwP5v",
        "colab_type": "text"
      },
      "source": [
        "The `BeautifulSoup` object also comes with a handful of functions to traverse the html DOM tree"
      ]
    },
    {
      "cell_type": "code",
      "metadata": {
        "id": "AJSUmM02xCcA",
        "colab_type": "code",
        "outputId": "c9538f99-b4dc-494d-ffe2-c92ceca4ad9d",
        "colab": {
          "base_uri": "https://localhost:8080/",
          "height": 52
        }
      },
      "source": [
        "# 'soup' is a BeautifulSoup instance\n",
        "print(type(soup))\n",
        "\n",
        "# it comes with a .children attribute which stores a list iterator\n",
        "print(type(soup.children))"
      ],
      "execution_count": 0,
      "outputs": [
        {
          "output_type": "stream",
          "text": [
            "<class 'bs4.BeautifulSoup'>\n",
            "<class 'list_iterator'>\n"
          ],
          "name": "stdout"
        }
      ]
    },
    {
      "cell_type": "code",
      "metadata": {
        "id": "s1WlfD3Ex244",
        "colab_type": "code",
        "colab": {}
      },
      "source": [
        "# let's iterate through the immediate children of soup\n",
        "# print out the variable type of each child\n",
        "#--- YOUR CODE HERE ---\n",
        "\n",
        "#----------------------"
      ],
      "execution_count": 0,
      "outputs": []
    },
    {
      "cell_type": "markdown",
      "metadata": {
        "id": "j7NN9GQmwP9y",
        "colab_type": "text"
      },
      "source": [
        "As you can see, all the children of the HTML tree have been converted to `bs4` elements.\n",
        "\n",
        "Next, let's convert the iterator to a list so it's easier to work with"
      ]
    },
    {
      "cell_type": "code",
      "metadata": {
        "id": "ddeSG9IkwS24",
        "colab_type": "code",
        "colab": {}
      },
      "source": [
        "#--- YOUR CODE HERE ---\n",
        "\n",
        "#----------------------"
      ],
      "execution_count": 0,
      "outputs": []
    },
    {
      "cell_type": "markdown",
      "metadata": {
        "id": "xC60_H9BT72A",
        "colab_type": "text"
      },
      "source": [
        "The third element of the children list contained the actual HTML document.\n",
        "\n",
        "Retrieve the third element (index of 2) and convert its elements to a list as well"
      ]
    },
    {
      "cell_type": "code",
      "metadata": {
        "id": "Jt_tKmla44zR",
        "colab_type": "code",
        "colab": {}
      },
      "source": [
        "#--- YOUR CODE HERE ---\n",
        "\n",
        "#----------------------"
      ],
      "execution_count": 0,
      "outputs": []
    },
    {
      "cell_type": "markdown",
      "metadata": {
        "id": "hqeQMbp7449R",
        "colab_type": "text"
      },
      "source": [
        "We can keep traversing down this tree, until we reach an endpoint. Let's try parsing another child element one more time."
      ]
    },
    {
      "cell_type": "code",
      "metadata": {
        "id": "lPtRDKYh45Ei",
        "colab_type": "code",
        "colab": {}
      },
      "source": [
        "# get a list of the children of the html bs4 element\n",
        "html_children = list(html.children)\n",
        "print(html_children)"
      ],
      "execution_count": 0,
      "outputs": []
    },
    {
      "cell_type": "code",
      "metadata": {
        "id": "lpwOywbMU4zF",
        "colab_type": "code",
        "colab": {}
      },
      "source": [
        "# the fourth element is the body of the HTML\n",
        "body = html_children[3]\n",
        "print(body)"
      ],
      "execution_count": 0,
      "outputs": []
    },
    {
      "cell_type": "markdown",
      "metadata": {
        "id": "Jsia_mCW45MY",
        "colab_type": "text"
      },
      "source": [
        "While we can keep traversing the tree to find what we want, this clearly isn't very efficient. The last thing we will cover in this section is how to access HTML elements by a known tag, id, or class."
      ]
    },
    {
      "cell_type": "code",
      "metadata": {
        "id": "A8ND9s3w45T6",
        "colab_type": "code",
        "colab": {}
      },
      "source": [
        "# BeautifulSoup4 lets us find all instances of a tag\n",
        "# we can also find the first instance with just soup.find('p')\n",
        "p_tags = list(soup.find_all('p'))\n",
        "print(p_tags)"
      ],
      "execution_count": 0,
      "outputs": []
    },
    {
      "cell_type": "code",
      "metadata": {
        "id": "EbdsWpxNWXN4",
        "colab_type": "code",
        "colab": {}
      },
      "source": [
        "# we can search for all instances of an id\n",
        "forecast_list_id = list(soup.find_all(id='seven-day-forecast-list'))\n",
        "print(forecast_list_id)"
      ],
      "execution_count": 0,
      "outputs": []
    },
    {
      "cell_type": "code",
      "metadata": {
        "id": "sx7FyirNVhUa",
        "colab_type": "code",
        "colab": {}
      },
      "source": [
        "# we can search for all instances of a class too\n",
        "# and we can search for it in a previously\n",
        "tombstone_classes = list(soup.find_all(class_='forecast-tombstone'))\n",
        "print(tombstone_classes)"
      ],
      "execution_count": 0,
      "outputs": []
    },
    {
      "cell_type": "code",
      "metadata": {
        "id": "gDy5iugvg_gc",
        "colab_type": "code",
        "colab": {}
      },
      "source": [
        "# lastly, we can use CSS combinator selectors with the 'select()' method\n",
        "# to learn more about CSS combinator selectors, visit\n",
        "# https://developer.mozilla.org/en-US/docs/Learn/CSS/Introduction_to_CSS/Combinators_and_multiple_selectors\n",
        "\n",
        "# this line finds all <p> elements in a <div> element\n",
        "p_in_div = list(soup.select(\"div p\"))\n",
        "print(p_in_div)"
      ],
      "execution_count": 0,
      "outputs": []
    },
    {
      "cell_type": "markdown",
      "metadata": {
        "id": "BXBUjRXckc9R",
        "colab_type": "text"
      },
      "source": [
        "Once we get to a leaf node in the HTML tree structure, we can use the `get_text()` function to retrieve the content."
      ]
    },
    {
      "cell_type": "code",
      "metadata": {
        "id": "udf9FlEtkmak",
        "colab_type": "code",
        "outputId": "3c265d72-145a-4d4d-cfa0-d8efc327c8f4",
        "colab": {
          "base_uri": "https://localhost:8080/",
          "height": 34
        }
      },
      "source": [
        "print(p_in_div[3].get_text())"
      ],
      "execution_count": 0,
      "outputs": [
        {
          "output_type": "stream",
          "text": [
            "Mostly Cloudy\n"
          ],
          "name": "stdout"
        }
      ]
    },
    {
      "cell_type": "markdown",
      "metadata": {
        "id": "HTnlQlAFia5O",
        "colab_type": "text"
      },
      "source": [
        "## 2. Scrape a simple statically loaded site with requests and bs4"
      ]
    },
    {
      "cell_type": "markdown",
      "metadata": {
        "id": "4_095-9mXpyk",
        "colab_type": "text"
      },
      "source": [
        "We should now have enough knowledge to scrape the URL from the National Weather Service. From the previous section, we should also have a good idea of what elements in the HTML we should focus on. However, if you are unsure, you can always use the `Inspect Element` tool in Chrome to find the relevant tags/ids/classes.\n",
        "\n",
        "To begin, let's rerun our GET request and re-instantiate a new `soup` variable"
      ]
    },
    {
      "cell_type": "code",
      "metadata": {
        "id": "Hho0GiEcXw98",
        "colab_type": "code",
        "colab": {}
      },
      "source": [
        "URL = 'https://forecast.weather.gov/MapClick.php?lat=42.3587&lon=-71.0567'\n",
        "# send GET request\n",
        "page = requests.get(URL)\n",
        "# instantiate BeautifulSoup object\n",
        "soup = BeautifulSoup(page.content, 'html.parser')"
      ],
      "execution_count": 0,
      "outputs": []
    },
    {
      "cell_type": "markdown",
      "metadata": {
        "id": "FkOmIJySYUSG",
        "colab_type": "text"
      },
      "source": [
        "For this scrape, we want to get the information stored in this container:\n",
        "\n",
        "![7-day-forecast](https://drive.google.com/uc?id=1sFbnCXFWaGZDDENo1bFRwTVW3ojZlDqS)\n",
        "\n",
        "Formatted in the following manner:\n",
        "\n",
        "period | short_desc | temp\n",
        "--- | --- | ---\n",
        "Tonight | Showers \\n Likely and \\n Patchy Fog | Low: 62 °F \n",
        "Monday | Mostly Sunny | High: 75 °F "
      ]
    },
    {
      "cell_type": "code",
      "metadata": {
        "id": "Vt9v3huWYTf9",
        "colab_type": "code",
        "colab": {}
      },
      "source": [
        "# Start by extracting the 7-day forecast panel shown in the first image above\n",
        "# Hint: find the id for this object, and use one of the functions covered in the previous section\n",
        "\n",
        "#--- YOUR CODE HERE ---\n",
        "\n",
        "#----------------------\n",
        "\n",
        "# Within this new object, select all the \".period-name\" classes that are within \n",
        "# a \".tombstone-containers\" class and save it to a variable\n",
        "# Hint: CSS combinator selectors may be helpful here\n",
        "\n",
        "#--- YOUR CODE HERE ---\n",
        "\n",
        "#----------------------\n",
        "\n",
        "# In a similar manner to above, select all the \".short-desc\" classes that are in\n",
        "# a \".tombstone-containers\" class and save it to a variable\n",
        "# Hint: CSS combinator selectors may be helpful here\n",
        "\n",
        "#--- YOUR CODE HERE ---\n",
        "\n",
        "#----------------------\n",
        "\n",
        "# Once again, select all the \".temp\" classes that are in\n",
        "# a \".tombstone-containers\" class and save it to a variable\n",
        "# Hint: CSS combinator selectors may be helpful here\n",
        "\n",
        "#--- YOUR CODE HERE ---\n",
        "\n",
        "#----------------------"
      ],
      "execution_count": 0,
      "outputs": []
    },
    {
      "cell_type": "code",
      "metadata": {
        "id": "B6iqZdLMnbSz",
        "colab_type": "code",
        "colab": {}
      },
      "source": [
        "# print some of your results out to make sure you did it right\n",
        "\n",
        "#--- YOUR CODE HERE ---\n",
        "\n",
        "#----------------------"
      ],
      "execution_count": 0,
      "outputs": []
    },
    {
      "cell_type": "code",
      "metadata": {
        "id": "1JqQBPjrk3Yk",
        "colab_type": "code",
        "colab": {}
      },
      "source": [
        "# Now that we have all of our data in an iterable form (as bs4.ResultSet),\n",
        "# we can loop through the elements we want and use the get_text() method to retrieve\n",
        "# our data without HTML tags\n",
        "\n",
        "# loop through your \".period-name\" classes from above to get your period names\n",
        "# save the results to a list\n",
        "\n",
        "#--- YOUR CODE HERE ---\n",
        "\n",
        "#----------------------\n",
        "\n",
        "# loop through the \".short-desc\" classes from above to get your short descriptions\n",
        "# save the results to a list\n",
        "\n",
        "#--- YOUR CODE HERE ---\n",
        "\n",
        "#----------------------\n",
        "\n",
        "# loop through the \".temp\" classes from above to get your temperatures\n",
        "# save the results to a list\n",
        "\n",
        "#--- YOUR CODE HERE ---\n",
        "\n",
        "#----------------------"
      ],
      "execution_count": 0,
      "outputs": []
    },
    {
      "cell_type": "code",
      "metadata": {
        "id": "1vtFNSEMialR",
        "colab_type": "code",
        "outputId": "2719d7b6-618e-424b-f0c5-695aa986d545",
        "colab": {
          "base_uri": "https://localhost:8080/",
          "height": 327
        }
      },
      "source": [
        "# lastly, we combine these lists into a pandas dataframe\n",
        "import pandas as pd\n",
        "\n",
        "weather = pd.DataFrame({\n",
        "    'period': periods, #--- YOUR CODE HERE ---,\n",
        "    'short_desc': short_descs, #--- YOUR CODE HERE ---,\n",
        "    'temp': temps, #--- YOUR CODE HERE ---\n",
        "})\n",
        "\n",
        "weather"
      ],
      "execution_count": 0,
      "outputs": [
        {
          "output_type": "execute_result",
          "data": {
            "text/html": [
              "<div>\n",
              "<style scoped>\n",
              "    .dataframe tbody tr th:only-of-type {\n",
              "        vertical-align: middle;\n",
              "    }\n",
              "\n",
              "    .dataframe tbody tr th {\n",
              "        vertical-align: top;\n",
              "    }\n",
              "\n",
              "    .dataframe thead th {\n",
              "        text-align: right;\n",
              "    }\n",
              "</style>\n",
              "<table border=\"1\" class=\"dataframe\">\n",
              "  <thead>\n",
              "    <tr style=\"text-align: right;\">\n",
              "      <th></th>\n",
              "      <th>period</th>\n",
              "      <th>short_desc</th>\n",
              "      <th>temp</th>\n",
              "    </tr>\n",
              "  </thead>\n",
              "  <tbody>\n",
              "    <tr>\n",
              "      <th>0</th>\n",
              "      <td>Tonight</td>\n",
              "      <td>Mostly Cloudy</td>\n",
              "      <td>Low: 44 °F</td>\n",
              "    </tr>\n",
              "    <tr>\n",
              "      <th>1</th>\n",
              "      <td>Tuesday</td>\n",
              "      <td>Slight ChanceShowers thenChanceShowers</td>\n",
              "      <td>High: 60 °F</td>\n",
              "    </tr>\n",
              "    <tr>\n",
              "      <th>2</th>\n",
              "      <td>TuesdayNight</td>\n",
              "      <td>ChanceShowers thenPartly Cloudy</td>\n",
              "      <td>Low: 41 °F</td>\n",
              "    </tr>\n",
              "    <tr>\n",
              "      <th>3</th>\n",
              "      <td>Wednesday</td>\n",
              "      <td>Sunny</td>\n",
              "      <td>High: 49 °F</td>\n",
              "    </tr>\n",
              "    <tr>\n",
              "      <th>4</th>\n",
              "      <td>WednesdayNight</td>\n",
              "      <td>Mostly Clear</td>\n",
              "      <td>Low: 39 °F</td>\n",
              "    </tr>\n",
              "    <tr>\n",
              "      <th>5</th>\n",
              "      <td>Thursday</td>\n",
              "      <td>ChanceShowers</td>\n",
              "      <td>High: 53 °F</td>\n",
              "    </tr>\n",
              "    <tr>\n",
              "      <th>6</th>\n",
              "      <td>ThursdayNight</td>\n",
              "      <td>ShowersLikely thenRain/SnowLikely</td>\n",
              "      <td>Low: 33 °F</td>\n",
              "    </tr>\n",
              "    <tr>\n",
              "      <th>7</th>\n",
              "      <td>Friday</td>\n",
              "      <td>Chance SnowShowers andBreezy</td>\n",
              "      <td>High: 38 °F</td>\n",
              "    </tr>\n",
              "    <tr>\n",
              "      <th>8</th>\n",
              "      <td>FridayNight</td>\n",
              "      <td>Mostly Clear</td>\n",
              "      <td>Low: 26 °F</td>\n",
              "    </tr>\n",
              "  </tbody>\n",
              "</table>\n",
              "</div>"
            ],
            "text/plain": [
              "           period                              short_desc         temp\n",
              "0         Tonight                           Mostly Cloudy   Low: 44 °F\n",
              "1         Tuesday  Slight ChanceShowers thenChanceShowers  High: 60 °F\n",
              "2    TuesdayNight         ChanceShowers thenPartly Cloudy   Low: 41 °F\n",
              "3       Wednesday                                   Sunny  High: 49 °F\n",
              "4  WednesdayNight                            Mostly Clear   Low: 39 °F\n",
              "5        Thursday                           ChanceShowers  High: 53 °F\n",
              "6   ThursdayNight       ShowersLikely thenRain/SnowLikely   Low: 33 °F\n",
              "7          Friday            Chance SnowShowers andBreezy  High: 38 °F\n",
              "8     FridayNight                            Mostly Clear   Low: 26 °F"
            ]
          },
          "metadata": {
            "tags": []
          },
          "execution_count": 21
        }
      ]
    },
    {
      "cell_type": "markdown",
      "metadata": {
        "id": "wVTf88ekqgIb",
        "colab_type": "text"
      },
      "source": [
        "Congrats, you just scraped your first website!\n",
        "\n",
        "We can continue to process the data we just collected in many ways. For instance, we could extract the numerical value of the temperature from the `temps` column rather than leaving it as a string. However, we're not going to move onto scraping more advanced sites."
      ]
    },
    {
      "cell_type": "markdown",
      "metadata": {
        "id": "vn6sMsglibLJ",
        "colab_type": "text"
      },
      "source": [
        "## 3. Scrape a dynamically loaded site with selenium and bs4"
      ]
    },
    {
      "cell_type": "markdown",
      "metadata": {
        "id": "vy2iufK0YoSn",
        "colab_type": "text"
      },
      "source": [
        "We now know that we can use `selenium` to automate web browsing. `selenium` works by instantiating a \"WebDriver\" (in this case, we will use the ChromeDriver) to run and interface with a web browser. Your code can then control what this browser does, such as clicking all of the \"Read More\" buttons on a page or sending keystrokes.\n",
        "\n",
        "**Selenium Documentation**:  \n",
        "https://selenium-python.readthedocs.io/  \n",
        "https://selenium-python.readthedocs.io/locating-elements.html"
      ]
    },
    {
      "cell_type": "markdown",
      "metadata": {
        "id": "q1G_nXNZPmmF",
        "colab_type": "text"
      },
      "source": [
        "### 3.1 Installing Selenium\n",
        "\n",
        "To use `selenium`, we need to install the package and the Chrome WebDriver executable"
      ]
    },
    {
      "cell_type": "code",
      "metadata": {
        "id": "1ibLsDED_FPj",
        "colab_type": "code",
        "outputId": "cc87f1b9-f2d6-4d32-ed36-6f823980a7ef",
        "colab": {
          "base_uri": "https://localhost:8080/",
          "height": 425
        }
      },
      "source": [
        "!apt update\n",
        "!apt install chromium-chromedriver\n",
        "!cp /usr/lib/chromium-browser/chromedriver /usr/bin\n",
        "!pip install selenium"
      ],
      "execution_count": 0,
      "outputs": [
        {
          "output_type": "stream",
          "text": [
            "\u001b[33m\r0% [Working]\u001b[0m\r            \rHit:1 https://cloud.r-project.org/bin/linux/ubuntu bionic-cran35/ InRelease\n",
            "\u001b[33m\r0% [Connecting to archive.ubuntu.com (91.189.88.149)] [Connecting to security.u\u001b[0m\u001b[33m\r0% [1 InRelease gpgv 3,626 B] [Connecting to archive.ubuntu.com (91.189.88.149)\u001b[0m\r                                                                               \rIgn:2 https://developer.download.nvidia.com/compute/cuda/repos/ubuntu1804/x86_64  InRelease\n",
            "\u001b[33m\r0% [1 InRelease gpgv 3,626 B] [Connecting to archive.ubuntu.com (91.189.88.149)\u001b[0m\r                                                                               \rHit:3 http://security.ubuntu.com/ubuntu bionic-security InRelease\n",
            "\u001b[33m\r0% [1 InRelease gpgv 3,626 B] [Waiting for headers] [Waiting for headers] [Wait\u001b[0m\r                                                                               \rHit:4 http://ppa.launchpad.net/graphics-drivers/ppa/ubuntu bionic InRelease\n",
            "\u001b[33m\r                                                                               \r0% [1 InRelease gpgv 3,626 B] [Waiting for headers] [Waiting for headers]\u001b[0m\r                                                                         \rIgn:5 https://developer.download.nvidia.com/compute/machine-learning/repos/ubuntu1804/x86_64  InRelease\n",
            "Hit:6 https://developer.download.nvidia.com/compute/cuda/repos/ubuntu1804/x86_64  Release\n",
            "Hit:7 https://developer.download.nvidia.com/compute/machine-learning/repos/ubuntu1804/x86_64  Release\n",
            "Hit:8 http://archive.ubuntu.com/ubuntu bionic InRelease\n",
            "Hit:9 http://ppa.launchpad.net/marutter/c2d4u3.5/ubuntu bionic InRelease\n",
            "Get:10 http://archive.ubuntu.com/ubuntu bionic-updates InRelease [88.7 kB]\n",
            "Get:11 http://archive.ubuntu.com/ubuntu bionic-backports InRelease [74.6 kB]\n",
            "Fetched 163 kB in 2s (86.9 kB/s)\n",
            "Reading package lists... Done\n",
            "Building dependency tree       \n",
            "Reading state information... Done\n",
            "39 packages can be upgraded. Run 'apt list --upgradable' to see them.\n",
            "Reading package lists... Done\n",
            "Building dependency tree       \n",
            "Reading state information... Done\n",
            "chromium-chromedriver is already the newest version (77.0.3865.90-0ubuntu0.18.04.1).\n",
            "0 upgraded, 0 newly installed, 0 to remove and 39 not upgraded.\n",
            "cp: '/usr/lib/chromium-browser/chromedriver' and '/usr/bin/chromedriver' are the same file\n",
            "Requirement already satisfied: selenium in /usr/local/lib/python3.6/dist-packages (3.141.0)\n",
            "Requirement already satisfied: urllib3 in /usr/local/lib/python3.6/dist-packages (from selenium) (1.24.3)\n"
          ],
          "name": "stdout"
        }
      ]
    },
    {
      "cell_type": "markdown",
      "metadata": {
        "id": "TuarrojwUoaM",
        "colab_type": "text"
      },
      "source": [
        "### 3.2 Simple HTML Page Demo\n"
      ]
    },
    {
      "cell_type": "markdown",
      "metadata": {
        "id": "35UGzxdOpn2F",
        "colab_type": "text"
      },
      "source": [
        "Let's test out `selenium` on a simple website: https://duckduckgo.com/. First, start our Chrome web browser..."
      ]
    },
    {
      "cell_type": "code",
      "metadata": {
        "id": "vwuF9-SbV-Hd",
        "colab_type": "code",
        "colab": {}
      },
      "source": [
        "import time\n",
        "from selenium import webdriver\n",
        "\n",
        "# Specify the configuration for the Chrome webdriver.\n",
        "options = webdriver.ChromeOptions()\n",
        "options.add_argument('--ignore-certificate-errors')\n",
        "options.add_argument('--incognito')\n",
        "options.add_argument('--headless')\n",
        "options.add_argument('--no-sandbox')\n",
        "\n",
        "# Start the Chrome webdriver (i.e., the web browser).\n",
        "driver = webdriver\\\n",
        "    .Chrome(\n",
        "            executable_path = 'chromedriver',\n",
        "            options=options)"
      ],
      "execution_count": 0,
      "outputs": []
    },
    {
      "cell_type": "code",
      "metadata": {
        "id": "ouHOqTZ7pjeZ",
        "colab_type": "code",
        "colab": {}
      },
      "source": [
        "# Instruct the web driver to navigate to DuckDuckGo.\n",
        "URL = 'https://duckduckgo.com/'\n",
        "driver.get(URL)\n",
        "time.sleep(1)\n",
        "\n",
        "# Use selenium's API to find the HTML element representing the search bar,\n",
        "# and then type in our query.\n",
        "search_bar = driver.find_element_by_id('search_form_input_homepage')\n",
        "search_bar.send_keys('Hello World!')\n",
        "time.sleep(2)\n",
        "\n",
        "# Lastly, find the HTML element representing the 'Search' button and click it.\n",
        "search_button = driver.find_element_by_id('search_button_homepage')\n",
        "search_button.click()\n",
        "time.sleep(2)"
      ],
      "execution_count": 0,
      "outputs": []
    },
    {
      "cell_type": "code",
      "metadata": {
        "id": "p1h_D8QWzgKg",
        "colab_type": "code",
        "colab": {}
      },
      "source": [
        "# Once we are done interacting with the page, we can also download and save the \n",
        "# contents of the webpage we are currently on. We can also use BS4 to process\n",
        "# the HTML file afterwards if we desire.\n",
        "page_source = driver.page_source\n",
        "with open('duckduckgo.html','w', encoding='utf-8') as file:\n",
        "  file.write(page_source)\n",
        "driver.close()\n",
        "\n",
        "from google.colab import files\n",
        "files.download('duckduckgo.html')"
      ],
      "execution_count": 0,
      "outputs": []
    },
    {
      "cell_type": "markdown",
      "metadata": {
        "id": "tCkhHjH9Uu-c",
        "colab_type": "text"
      },
      "source": [
        "### 3.3 TripAdvisor Demo"
      ]
    },
    {
      "cell_type": "markdown",
      "metadata": {
        "id": "PhyIJ_Qj-UvV",
        "colab_type": "text"
      },
      "source": [
        "Next, lets repeat this exercise on a more complicated website..."
      ]
    },
    {
      "cell_type": "code",
      "metadata": {
        "id": "wwo69qUR9fhL",
        "colab_type": "code",
        "colab": {}
      },
      "source": [
        "options = webdriver.ChromeOptions()\n",
        "options.add_argument('--ignore-certificate-errors')\n",
        "options.add_argument('--incognito')\n",
        "options.add_argument('--headless')\n",
        "options.add_argument('--no-sandbox')\n",
        "driver = webdriver\\\n",
        "    .Chrome(\n",
        "            executable_path = 'chromedriver',\n",
        "            options=options)"
      ],
      "execution_count": 0,
      "outputs": []
    },
    {
      "cell_type": "markdown",
      "metadata": {
        "id": "yaPeRY0pBxix",
        "colab_type": "text"
      },
      "source": [
        "We can now use the webdriver's built-in functions to find and press all the \"Read More\" buttons.\n",
        "\n",
        "If we use \"Inspect Element\" on the TripAdvisor page, we'll see that the \"Read More\" buttons are all defined by the class with the name: <br>\n",
        "\"location-review-review-list-parts-ExpandableReview__cta--2mR2g\""
      ]
    },
    {
      "cell_type": "code",
      "metadata": {
        "id": "OsqPzGbI_s-A",
        "colab_type": "code",
        "colab": {}
      },
      "source": [
        "URL = 'https://www.tripadvisor.com/Airline_Review-d8729157-Reviews-Spirit-Airlines#REVIEWS'\n",
        "# get webpage\n",
        "driver.get(URL)\n",
        "\n",
        "# get a list of the \"Read More\" buttons; clicking the any of the buttons will expand all of the reviews\n",
        "time.sleep(2)\n",
        "read_more_buttons = driver.find_elements_by_xpath(\"//span[text()='Read more']\")\n",
        "for button in read_more_buttons:\n",
        "    if button.is_displayed():\n",
        "        button.click()\n",
        "        break\n",
        "      \n",
        "# save source HTML of page now that the JS has run\n",
        "page_source = driver.page_source"
      ],
      "execution_count": 0,
      "outputs": []
    },
    {
      "cell_type": "markdown",
      "metadata": {
        "id": "-yJXktRHDEec",
        "colab_type": "text"
      },
      "source": [
        "Now that we have the source HTML, the process is the same as before. We can use `bs4` to traverse the HTML DOM and get all the info we need."
      ]
    },
    {
      "cell_type": "code",
      "metadata": {
        "id": "Cf4gvhZwDMda",
        "colab_type": "code",
        "colab": {}
      },
      "source": [
        "soup = BeautifulSoup(page_source, 'html.parser')\n",
        "\n",
        "# Use the BeautifulSoup \"find_all\" function to get the class that contains all the expanded reviews\n",
        "# Hint: you may need to open the page in your browser and find the correct class after pressing the \"Read More\" function\n",
        "\n",
        "#--- YOUR CODE HERE ---\n",
        "\n",
        "#----------------------"
      ],
      "execution_count": 0,
      "outputs": []
    },
    {
      "cell_type": "markdown",
      "metadata": {
        "id": "swQAE5MaPPXh",
        "colab_type": "text"
      },
      "source": [
        "When we begin scraping larger webpages, it's more memory efficient to write to a csv line-by-line, rather than constructing an entire dataframe and converting the entire variable to a csv. The example above is not too large to require this, but we'll try it for learning purposes."
      ]
    },
    {
      "cell_type": "code",
      "metadata": {
        "id": "M_28S4qqNzuP",
        "colab_type": "code",
        "colab": {}
      },
      "source": [
        "# Open the csv file to write to.\n",
        "with open('trip_advisor_scrape.txt','w') as file:\n",
        "  \n",
        "    # Loop through the bs4.ResultSet obtained from the previous cell\n",
        "    # for each entry in the list, get its text, use the strip() function\n",
        "    # to get rid of trailing whitespace, and then write it to the file with:\n",
        "          # file.write(line)\n",
        "          # file.write('\\n')\n",
        "    \n",
        "    #--- YOUR CODE HERE ---\n",
        "\n",
        "    #----------------------"
      ],
      "execution_count": 0,
      "outputs": []
    },
    {
      "cell_type": "markdown",
      "metadata": {
        "id": "uZM0SRS9Rs3C",
        "colab_type": "text"
      },
      "source": [
        "Finally, since we're working in Google Collab, we need to download the files"
      ]
    },
    {
      "cell_type": "code",
      "metadata": {
        "id": "nC9XLPGPS_X8",
        "colab_type": "code",
        "colab": {}
      },
      "source": [
        "from google.colab import files\n",
        "files.download('trip_advisor_scrape.txt')"
      ],
      "execution_count": 0,
      "outputs": []
    },
    {
      "cell_type": "code",
      "metadata": {
        "id": "NttTSEEJOLAP",
        "colab_type": "code",
        "colab": {}
      },
      "source": [
        ""
      ],
      "execution_count": 0,
      "outputs": []
    }
  ]
}